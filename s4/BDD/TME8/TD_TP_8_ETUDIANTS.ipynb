{
 "cells": [
  {
   "cell_type": "markdown",
   "metadata": {
    "tags": []
   },
   "source": [
    "# TD et TME 8: CREATION DE SCHEMAS-CONTRAINTES D'INTEGRITE\n"
   ]
  },
  {
   "cell_type": "markdown",
   "metadata": {
    "tags": []
   },
   "source": [
    "## Installation H2 \n",
    "\n",
    "Le système utilisé pendant les TME est H2."
   ]
  },
  {
   "cell_type": "code",
   "execution_count": null,
   "metadata": {
    "tags": []
   },
   "outputs": [],
   "source": [
    "pip install psycopg2-binary"
   ]
  },
  {
   "cell_type": "markdown",
   "metadata": {},
   "source": [
    "Télécharger le pilote de H2"
   ]
  },
  {
   "cell_type": "code",
   "execution_count": null,
   "metadata": {},
   "outputs": [],
   "source": [
    "!wget https://nuage.lip6.fr/s/LqD9N23kxrfHopr/download?path=agreg/postgresql-42.6.0.jar -O postgresql-42.6.0.jar\n",
    "!wget https://nuage.lip6.fr/s/LqD9N23kxrfHopr/download?path=agreg/h2-2.1.214.jar -O h2-2.1.214.jar"
   ]
  },
  {
   "cell_type": "markdown",
   "metadata": {},
   "source": [
    "**Relancez le kernel**: Kernel -> Restart kernel ..."
   ]
  },
  {
   "cell_type": "markdown",
   "metadata": {},
   "source": [
    "https://www.psycopg.org/docs/\n",
    "http://localhost:8082"
   ]
  },
  {
   "cell_type": "code",
   "execution_count": null,
   "metadata": {
    "tags": []
   },
   "outputs": [],
   "source": [
    "import psycopg2\n",
    "import os\n",
    "local_dir = \"./data\"\n",
    "os.makedirs(local_dir, exist_ok=True)\n",
    "os.listdir(local_dir)"
   ]
  },
  {
   "cell_type": "markdown",
   "metadata": {
    "id": "hsCZZv8lmbBK",
    "tags": []
   },
   "source": [
    "### Démarrer le serveur SQL H2"
   ]
  },
  {
   "cell_type": "code",
   "execution_count": null,
   "metadata": {
    "tags": []
   },
   "outputs": [],
   "source": [
    "#Remplacez les valeurs des variables suivantes\n",
    "#NN= numéro de groupe: chaine de caractères (ex: 01, 02,.., 13), remplacer xx \n",
    "NN = '99'\n",
    "#BB=numero binome: chaîne de caractères (assigné par l'enseignant, ex: 01,..., 15), remplacer xx\n",
    "BB = '99'\n",
    "port = 5000+int(NN+BB)\n",
    "print(f'Le numero du port utilisé pour la connexion à la BD est: {port}')"
   ]
  },
  {
   "cell_type": "code",
   "execution_count": null,
   "metadata": {
    "id": "rLcOCISm-R1Z",
    "tags": []
   },
   "outputs": [],
   "source": [
    "%%bash --bg --out output -s \"$port\"\n",
    "java -Dh2.bindAddress=127.0.0.1 -cp h2-2.1.214.jar:postgresql-42.6.0.jar org.h2.tools.Server -pg -pgPort $1 -baseDir ./data -ifNotExists"
   ]
  },
  {
   "cell_type": "markdown",
   "metadata": {
    "tags": []
   },
   "source": [
    "## Fonctions utiles"
   ]
  },
  {
   "cell_type": "markdown",
   "metadata": {
    "tags": []
   },
   "source": [
    "### connect_H2"
   ]
  },
  {
   "cell_type": "code",
   "execution_count": null,
   "metadata": {
    "tags": []
   },
   "outputs": [],
   "source": [
    "def connect_H2(db,user,password):\n",
    "    global connection\n",
    "    try:\n",
    "        connection\n",
    "    except:\n",
    "        connection = None\n",
    "    if connection != None:\n",
    "        try:\n",
    "            connection.close()\n",
    "            print(\"Connection closed\")\n",
    "        except  Error as e:\n",
    "            print(f\"The error '{e}' occurred\")\n",
    "    try:\n",
    "        # connection = sqlite3.connect(path,isolation_level='DEFERRED')\n",
    "        connection = psycopg2.connect(f\"dbname={db} user={user} password={password} host=localhost port={port}\")\n",
    "        print(\"Connection to H2 DB successful\")\n",
    "    except Exception as e:\n",
    "        print(f\"The error '{e}' occurred\")\n",
    "    return connection"
   ]
  },
  {
   "cell_type": "markdown",
   "metadata": {},
   "source": [
    "### execute"
   ]
  },
  {
   "cell_type": "code",
   "execution_count": null,
   "metadata": {
    "tags": []
   },
   "outputs": [],
   "source": [
    "def execute(connection, query, show=True,close=True):\n",
    "    try:\n",
    "        cursor = connection.cursor()\n",
    "        cursor.execute(query)\n",
    "        print(cursor.rowcount,\"rows\")\n",
    "        if show and cursor.rowcount:\n",
    "            names = [desc[0] for desc in cursor.description]\n",
    "    \n",
    "            lengths={}\n",
    "            for attr in names:\n",
    "                lengths[attr]=len(attr)\n",
    "            for ligne in cursor:\n",
    "                i=0\n",
    "                for attr in ligne:\n",
    "                    lengths[names[i]]=max(lengths[names[i]],len(str(attr).replace('\\n',' ')))\n",
    "                    i=i+1\n",
    "            print('|',end='')\n",
    "            for attr in names:\n",
    "                print(str(attr).ljust(lengths[attr]),end='|')\n",
    "            print()\n",
    "            print('|',end='')\n",
    "            for attr in names:\n",
    "                print(''.ljust(lengths[attr]+1,'-'),end='')\n",
    "            print()\n",
    "            cursor.execute(query)\n",
    "            for ligne in cursor:\n",
    "                i=0\n",
    "                print('|',end='')\n",
    "                for attr in ligne:\n",
    "                    print(str(attr).replace('\\n',' ')[:lengths[names[i]]].ljust(lengths[names[i]]),end='|')\n",
    "                    i=i+1\n",
    "                print()\n",
    "        if close:\n",
    "            cursor.close()\n",
    "    except Exception as e:\n",
    "        print(f\"The error '{e}' occurred\")\n",
    "        cursor=None\n",
    "    return cursor"
   ]
  },
  {
   "cell_type": "markdown",
   "metadata": {
    "id": "00mRiA73K_QB",
    "tags": []
   },
   "source": [
    "### Connexion à H2"
   ]
  },
  {
   "cell_type": "code",
   "execution_count": null,
   "metadata": {
    "id": "IRyyRAX2K_QB",
    "tags": []
   },
   "outputs": [],
   "source": [
    "connection = connect_H2(\"jo\"+f'{port}',\"ba\",\"ba\")"
   ]
  },
  {
   "cell_type": "markdown",
   "metadata": {},
   "source": [
    "## Exercice 1 : Création de schéma \n",
    "Créer le schéma préparé en TD"
   ]
  },
  {
   "cell_type": "markdown",
   "metadata": {},
   "source": [
    "On considère le schéma Entreprise décrit ci-dessous.\n",
    "\n",
    "- EMPLOYE (<u>NumSS</u>, NomE, PrenomE, NumChef*, VilleE, DateNaiss) \n",
    "- PROJET(<u>NumProj</u>, NomProj, RespProj*, VilleP, Budget) \n",
    "- EMBAUCHE (<u>NumSS*, NumProj*</u>, DateEmb, Profil*) \n",
    "- GRILLE_SAL (<u>Profil</u>, salaire)\n",
    "\n",
    "La clé primaire de chaque relation est soulignée et les attributs des clés étrangères sont suivis d’un astérisque. Cette base contient des informations sur des employés et sur les projets dans lesquels ils sont impliqués. Ces employés sont embauchés dans un projet sur un profil donné et perçoivent un salaire en fonction de ce profil. Le chef d'un employé dans la table Employé et le chef d'un projet dans la table Projet sont des employés. En plus des contraintes de clé et des contraintes référentielles indiquées dans le schéma, on voudrait intégrer les contraintes suivantes :\n",
    "\n",
    "Domaines\n",
    "- Le numéro de sécurité sociale possède exactement 5 chiffres.\n",
    "- Les attributs textuels (NomE, PrenomE, NomProj, Profil) ne dépassent pas 20 caractères (ils peuvent en avoir moins).\n",
    "- La ville d’un employé (VillE) ou d’un projet (VilleP) se limite à 'Paris', 'Lyon' et 'Marseille' et sa longueur ne dépasse pas 9 caractères.\n",
    "- Le numéro d’un projet varie entre 5 et 7 chiffres.\n",
    "- Le salaire peut avoir deux chiffres après la virgule et ne dépasse pas 90 000.\n",
    "- Le budget est un entier sur 6 chiffres (sans virgule)\n",
    "- Aucun employé ne peut avoir plus de 70 ans au moment où il est enregistré dans la table Employé.\n",
    "\n",
    "Clés\n",
    "- Il n'y a pas deux employés avec le même nom et le même prénom.\n",
    "\n",
    "Not-null\n",
    "- Chaque projet doit avoir un responsable.\n",
    "- Dans la table Embauche, NumSS et NumProj représentent un employé et un projet existants. De même, profil est un profil existant.\n",
    "\n"
   ]
  },
  {
   "cell_type": "markdown",
   "metadata": {
    "tags": []
   },
   "source": [
    "Donner en SQL les instructions de création des contraintes de domaines indiquées dans l'énoncé."
   ]
  },
  {
   "cell_type": "markdown",
   "metadata": {},
   "source": [
    "#### Supprimer tout le schéma de la base courante\n"
   ]
  },
  {
   "cell_type": "code",
   "execution_count": null,
   "metadata": {},
   "outputs": [],
   "source": [
    "query=\"\"\"\n",
    "DROP ALL OBJECTS\n",
    "\"\"\"\n",
    "execute(connection,query,show=True)"
   ]
  },
  {
   "cell_type": "markdown",
   "metadata": {},
   "source": [
    "#### Définition des domaines"
   ]
  },
  {
   "cell_type": "markdown",
   "metadata": {},
   "source": [
    "Le numéro de sécurité sociale possède exactement 5 chiffres"
   ]
  },
  {
   "cell_type": "code",
   "execution_count": null,
   "metadata": {
    "tags": []
   },
   "outputs": [],
   "source": [
    "query=\"\"\"\n",
    "create domain dnumss as numeric(5) check (length(value)=5)\n",
    "\"\"\"\n",
    "execute(connection,query,show=True)"
   ]
  },
  {
   "cell_type": "markdown",
   "metadata": {},
   "source": [
    "Les attributs textuels (NomE, PrenomE, NomProj, Profil) ne dépassent pas 20 caractères (ils peuvent en avoir moins)"
   ]
  },
  {
   "cell_type": "code",
   "execution_count": null,
   "metadata": {
    "tags": []
   },
   "outputs": [],
   "source": [
    "query=\"\"\"\n",
    "create domain dchaines as ...\n",
    "\"\"\"\n",
    "execute(connection,query,show=True)\n",
    "\n"
   ]
  },
  {
   "cell_type": "markdown",
   "metadata": {},
   "source": [
    "La ville d’un employé (VilleE) ou d’un projet (VilleP) se limite à 'Paris', 'Lyon' et 'Marseille' et sa longueur ne dépasse pas 9 caractères"
   ]
  },
  {
   "cell_type": "code",
   "execution_count": null,
   "metadata": {},
   "outputs": [],
   "source": [
    "query=\"\"\"\n",
    "create domain dvilles as ...\n",
    "\"\"\"\n",
    "execute(connection,query,show=True)"
   ]
  },
  {
   "cell_type": "markdown",
   "metadata": {},
   "source": [
    "Le numéro d’un projet varie entre 5 et 7 chiffres."
   ]
  },
  {
   "cell_type": "code",
   "execution_count": null,
   "metadata": {},
   "outputs": [],
   "source": [
    "query=\"\"\"\n",
    "create domain dnumproj as ...\n",
    "\"\"\"\n",
    "execute(connection,query,show=True)"
   ]
  },
  {
   "cell_type": "markdown",
   "metadata": {},
   "source": [
    "Le salaire peut avoir deux chiffres après la virgule et ne dépasse pas 90 000."
   ]
  },
  {
   "cell_type": "code",
   "execution_count": null,
   "metadata": {},
   "outputs": [],
   "source": [
    "query=\"\"\"\n",
    "create domain dsal as ...\n",
    "\"\"\"\n",
    "execute(connection,query,show=True)"
   ]
  },
  {
   "cell_type": "markdown",
   "metadata": {},
   "source": [
    "Budget sur 6 chiffres"
   ]
  },
  {
   "cell_type": "code",
   "execution_count": null,
   "metadata": {},
   "outputs": [],
   "source": [
    "query=\"\"\"\n",
    "create domain dbudget as ...insertions\n",
    "\"\"\"\n",
    "execute(connection,query,show=True)"
   ]
  },
  {
   "cell_type": "markdown",
   "metadata": {},
   "source": [
    "Aucun employé ne peut avoir plus de 70 ans au moment où il est enregistré dans la table Employé."
   ]
  },
  {
   "cell_type": "code",
   "execution_count": null,
   "metadata": {},
   "outputs": [],
   "source": [
    "query=\"\"\"\n",
    "create domain ddatenaiss as ...\n",
    "\"\"\"\n",
    "execute(connection,query,show=True)"
   ]
  },
  {
   "cell_type": "markdown",
   "metadata": {},
   "source": [
    "#### Interroger le catalogue pour vérifier les domaines existants"
   ]
  },
  {
   "cell_type": "code",
   "execution_count": null,
   "metadata": {
    "tags": []
   },
   "outputs": [],
   "source": [
    "query=\"\"\"\n",
    "select domain_name \n",
    "from INFORMATION_SCHEMA.DOMAINS \n",
    "\"\"\"\n",
    "execute(connection,query,show=True)"
   ]
  },
  {
   "cell_type": "code",
   "execution_count": null,
   "metadata": {
    "tags": []
   },
   "outputs": [],
   "source": [
    "query=\"\"\"\n",
    "SELECT domain_name,check_clause \n",
    "FROM information_schema.domain_constraints a, information_schema.check_constraints b\n",
    "where a.constraint_name=b.constraint_name\n",
    "\"\"\"\n",
    "execute(connection,query)"
   ]
  },
  {
   "cell_type": "markdown",
   "metadata": {},
   "source": [
    "Donner en SQL les instructions de création du schéma de la base en leur associant les contraintes de clés, référentielles et de domaines indiquées dans l'énoncé."
   ]
  },
  {
   "cell_type": "markdown",
   "metadata": {},
   "source": [
    "#### Définition des tables"
   ]
  },
  {
   "cell_type": "markdown",
   "metadata": {},
   "source": [
    "Table Employe"
   ]
  },
  {
   "cell_type": "code",
   "execution_count": null,
   "metadata": {},
   "outputs": [],
   "source": [
    "query=\"\"\"\n",
    "create table Employe(\n",
    "...\n",
    ")\n",
    "\"\"\"\n",
    "execute(connection,query,show=True)"
   ]
  },
  {
   "cell_type": "markdown",
   "metadata": {},
   "source": [
    "Table Projet"
   ]
  },
  {
   "cell_type": "code",
   "execution_count": null,
   "metadata": {},
   "outputs": [],
   "source": [
    "query=\"\"\"\n",
    "create table Projet(\n",
    "...\n",
    ")\n",
    "\"\"\"\n",
    "execute(connection,query,show=True)"
   ]
  },
  {
   "cell_type": "markdown",
   "metadata": {},
   "source": [
    "Table Grille_sal"
   ]
  },
  {
   "cell_type": "code",
   "execution_count": null,
   "metadata": {},
   "outputs": [],
   "source": [
    "query=\"\"\"\n",
    "create table Grille_sal(\n",
    "...\n",
    ")\n",
    "\"\"\"\n",
    "execute(connection,query,show=True)"
   ]
  },
  {
   "cell_type": "markdown",
   "metadata": {},
   "source": [
    "Table Embauche"
   ]
  },
  {
   "cell_type": "code",
   "execution_count": null,
   "metadata": {},
   "outputs": [],
   "source": [
    "query=\"\"\"\n",
    "create table Embauche(\n",
    "...\n",
    ")\n",
    "\"\"\"\n",
    "execute(connection,query,show=True)"
   ]
  },
  {
   "cell_type": "markdown",
   "metadata": {},
   "source": [
    "#### Alter table (ajouter des contraintes) "
   ]
  },
  {
   "cell_type": "markdown",
   "metadata": {},
   "source": [
    "En considérant que la table projet a été créée, dans ce cas utiliser la commande \n",
    "\n",
    "    alter table <table> add constraint <nom><expression>\n",
    "\n",
    "pour associer la contrainte à Projet"
   ]
  },
  {
   "cell_type": "markdown",
   "metadata": {},
   "source": [
    "Un responsable de projet doit habiter la ville du projet dont il est responsable. Donner en SQL l'instruction permettant d’exprimer cette contrainte de deux manière différentes"
   ]
  },
  {
   "cell_type": "code",
   "execution_count": null,
   "metadata": {},
   "outputs": [],
   "source": [
    "query=\"\"\"\n",
    "alter table PROJET add constraint ... \n",
    "\"\"\"\n",
    "execute(connection,query,show=True)"
   ]
  },
  {
   "cell_type": "markdown",
   "metadata": {},
   "source": [
    "#### Interroger le catalogue de données"
   ]
  },
  {
   "cell_type": "code",
   "execution_count": null,
   "metadata": {},
   "outputs": [],
   "source": [
    "query=\"\"\"\n",
    "select TABLE_NAME\n",
    "from INFORMATION_SCHEMA.TABLES \n",
    "where TABLE_SCHEMA = 'public'\n",
    "\"\"\"\n",
    "execute(connection,query,show=True)"
   ]
  },
  {
   "cell_type": "code",
   "execution_count": null,
   "metadata": {},
   "outputs": [],
   "source": [
    "query=\"\"\"\n",
    "SELECT t.table_name,constraint_name \n",
    "FROM information_schema.table_constraints t\n",
    "\"\"\"\n",
    "execute(connection,query,show=True)"
   ]
  },
  {
   "cell_type": "code",
   "execution_count": null,
   "metadata": {},
   "outputs": [],
   "source": [
    "query=\"\"\"\n",
    "SELECT t.table_name,constraint_name,column_name,data_type \n",
    "FROM information_schema.table_constraints t, information_schema.columns c\n",
    "where t.table_name=c.table_name\n",
    "\"\"\"\n",
    "execute(connection,query,show=True)"
   ]
  },
  {
   "cell_type": "markdown",
   "metadata": {},
   "source": [
    "## Exercice 2 : Insertion de données"
   ]
  },
  {
   "cell_type": "markdown",
   "metadata": {},
   "source": [
    "Dans ce qui suit, il vous est demandé d'effectuer des insertions de n-uplets dans des tables.\n",
    "\n",
    "Syntaxe des insertions :\n",
    "\n",
    "    insert into Table values ('val1', 'val2', ….)\n",
    "\n",
    "par exemple, pour insérer une employée 'LARS Anna', qui habite 'Paris' et qui est née le 25-08-1975, il suffit d'exécuter l'instruction ci-dessous\n",
    "\n",
    "    insert into employe values('21456','LARS', 'Anna',null, 'paris', parsedatetime('25-08-1975', 'dd-MM-yyyy' ))\n",
    "    \n",
    "et de constater que la système retourne bien le message\n",
    "\n",
    "    1 rows\n",
    "\n",
    "\n",
    "Syntaxe des suppressions :\n",
    "\n",
    "    delete from Table \n",
    "\n",
    "supprime tous les nuplets de la table (la table existera toujours mais sera vide)\n"
   ]
  },
  {
   "cell_type": "markdown",
   "metadata": {},
   "source": [
    "### Insérez dans chaque table au moins un n-uplet qui vérifie les contraintes d'intégrité. Vous avez la liberté de choisir les valeurs que vous voulez. Par exemple, l'instruction suivante insère un employé qui vérifie les contraintes"
   ]
  },
  {
   "cell_type": "code",
   "execution_count": null,
   "metadata": {
    "tags": []
   },
   "outputs": [],
   "source": [
    "query=\"\"\"\n",
    "insert into employe values \n",
    "\"\"\"\n",
    "execute(connection,query,show=True)"
   ]
  },
  {
   "cell_type": "code",
   "execution_count": null,
   "metadata": {
    "tags": []
   },
   "outputs": [],
   "source": [
    "query=\"\"\"\n",
    "select * from employe\n",
    "\"\"\"\n",
    "execute(connection,query,show=True)"
   ]
  },
  {
   "cell_type": "code",
   "execution_count": null,
   "metadata": {
    "tags": []
   },
   "outputs": [],
   "source": [
    "query=\"\"\"\n",
    "insert into PROJET values \n",
    "\"\"\"\n",
    "execute(connection,query,show=True)"
   ]
  },
  {
   "cell_type": "code",
   "execution_count": null,
   "metadata": {
    "tags": []
   },
   "outputs": [],
   "source": [
    "query=\"\"\"\n",
    "insert into GRILLE_SAL values\n",
    "\"\"\"\n",
    "execute(connection,query,show=True)"
   ]
  },
  {
   "cell_type": "code",
   "execution_count": null,
   "metadata": {
    "scrolled": true,
    "tags": []
   },
   "outputs": [],
   "source": [
    "query=\"\"\"\n",
    "insert into EMBAUCHE values\n",
    "\"\"\"\n",
    "execute(connection,query,show=True)"
   ]
  },
  {
   "cell_type": "markdown",
   "metadata": {},
   "source": [
    "## Exercice 3 : Violation des contraintes\n",
    "\n",
    "### Proposez des insertions qui violent les contraintes d'intégrité définies pour chaque table. "
   ]
  },
  {
   "cell_type": "code",
   "execution_count": null,
   "metadata": {},
   "outputs": [],
   "source": [
    "query=\"\"\"\n",
    "select * from employe\n",
    "\"\"\"\n",
    "execute(connection,query,show=True)"
   ]
  },
  {
   "cell_type": "markdown",
   "metadata": {},
   "source": [
    "Proposer une insertion dans la table Employé qui ne respecte pas la contrainte de clé primaire."
   ]
  },
  {
   "cell_type": "code",
   "execution_count": null,
   "metadata": {},
   "outputs": [],
   "source": [
    "query=\"\"\"\n",
    "insert into Employe values ...\n",
    "\"\"\"\n",
    "execute(connection,query,show=True)"
   ]
  },
  {
   "cell_type": "markdown",
   "metadata": {},
   "source": [
    "Proposer une insertion dans la table Employe qui ne respecte pas la contrainte de limite d'âge."
   ]
  },
  {
   "cell_type": "code",
   "execution_count": null,
   "metadata": {},
   "outputs": [],
   "source": [
    "query=\"\"\"\n",
    "insert into Employe\n",
    "\"\"\"\n",
    "execute(connection,query,show=True)"
   ]
  },
  {
   "cell_type": "markdown",
   "metadata": {},
   "source": [
    "Proposer une insertion dans la table Employe qui ne respecte pas la contrainte de longueur de l'attribut NumSS."
   ]
  },
  {
   "cell_type": "code",
   "execution_count": null,
   "metadata": {},
   "outputs": [],
   "source": [
    "query=\"\"\"\n",
    "insert into Employe\n",
    "\"\"\"\n",
    "execute(connection,query,show=True)"
   ]
  },
  {
   "cell_type": "markdown",
   "metadata": {},
   "source": [
    "Proposer une insertion dans la table Employe qui ne respecte pas la contrainte sur les villes possibles."
   ]
  },
  {
   "cell_type": "code",
   "execution_count": null,
   "metadata": {},
   "outputs": [],
   "source": [
    "query=\"\"\"\n",
    "insert into Employe\n",
    "\"\"\"\n",
    "execute(connection,query,show=True)"
   ]
  },
  {
   "cell_type": "markdown",
   "metadata": {},
   "source": [
    "Insérer dans la table Employé deux employés avec le même nom et le même prénom."
   ]
  },
  {
   "cell_type": "code",
   "execution_count": null,
   "metadata": {},
   "outputs": [],
   "source": [
    "query=\"\"\"\n",
    "insert into Employe\n",
    "\"\"\"\n",
    "execute(connection,query,show=True)"
   ]
  },
  {
   "cell_type": "markdown",
   "metadata": {},
   "source": [
    "Proposer une insertion dans la table Grille_SAL qui ne respecte pas la contrainte sur le salaire qui ne doit pas dépasser 90 000."
   ]
  },
  {
   "cell_type": "code",
   "execution_count": null,
   "metadata": {},
   "outputs": [],
   "source": [
    "query=\"\"\"\n",
    "insert into Grille_SAL\n",
    "\"\"\"\n",
    "execute(connection,query,show=True)"
   ]
  },
  {
   "cell_type": "markdown",
   "metadata": {},
   "source": [
    "Proposer une insertion dans la table Projet qui ne respecte pas la contrainte référentielle vers Employe : insérer un responsable de projet qui n'est pas dans la table Employé"
   ]
  },
  {
   "cell_type": "code",
   "execution_count": null,
   "metadata": {},
   "outputs": [],
   "source": [
    "query=\"\"\"\n",
    "insert into Projet\n",
    "\"\"\"\n",
    "execute(connection,query,show=True)"
   ]
  },
  {
   "cell_type": "markdown",
   "metadata": {},
   "source": [
    "Il est possible que la contrainte que le responsable soit dans la même ville est déclenchée. Vous pouvez enlever cette contrainte avec la commande :\n",
    "\n",
    "    alter table drop constraint \"nom de contrainte\"\n",
    "    \n",
    "Il faudrait la recréer après avec\n",
    "\n",
    "    alter table add constraint ...."
   ]
  },
  {
   "cell_type": "markdown",
   "metadata": {},
   "source": [
    "Proposer une insertion dans la table Embauche qui ne respecte pas une des contraintes référentielles : par exemple, associer un employé existant à un projet qui n'existe pas."
   ]
  },
  {
   "cell_type": "code",
   "execution_count": null,
   "metadata": {},
   "outputs": [],
   "source": [
    "query=\"\"\"\n",
    "insert into Embauche values\n",
    "\"\"\"\n",
    "execute(connection,query,show=True)"
   ]
  },
  {
   "cell_type": "markdown",
   "metadata": {},
   "source": [
    "# Fermer la connexion"
   ]
  },
  {
   "cell_type": "code",
   "execution_count": null,
   "metadata": {},
   "outputs": [],
   "source": [
    "connection.commit() # implicit avec close\n",
    "connection.close()"
   ]
  }
 ],
 "metadata": {
  "interpreter": {
   "hash": "3f7970bd1fb3f240334e0295161dab121eeb02ebe2a02561bbc5f2c38513dba7"
  },
  "kernelspec": {
   "display_name": "Python 3 (ipykernel)",
   "language": "python",
   "name": "python3"
  },
  "language_info": {
   "codemirror_mode": {
    "name": "ipython",
    "version": 3
   },
   "file_extension": ".py",
   "mimetype": "text/x-python",
   "name": "python",
   "nbconvert_exporter": "python",
   "pygments_lexer": "ipython3",
   "version": "3.11.4"
  },
  "toc-autonumbering": true,
  "toc-showcode": false,
  "toc-showmarkdowntxt": false,
  "toc-showtags": false
 },
 "nbformat": 4,
 "nbformat_minor": 4
}
