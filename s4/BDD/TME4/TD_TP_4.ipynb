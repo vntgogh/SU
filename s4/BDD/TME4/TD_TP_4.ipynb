{
 "cells": [
  {
   "cell_type": "markdown",
   "metadata": {
    "id": "zHpjYeKDK_P9",
    "tags": []
   },
   "source": [
    "# Installation H2 \n",
    "\n",
    "Le système utilisé pendant les TME est H2."
   ]
  },
  {
   "cell_type": "code",
   "execution_count": 4,
   "metadata": {
    "tags": []
   },
   "outputs": [
    {
     "ename": "SyntaxError",
     "evalue": "invalid syntax (2477833363.py, line 1)",
     "output_type": "error",
     "traceback": [
      "\u001b[1;36m  Cell \u001b[1;32mIn [4], line 1\u001b[1;36m\u001b[0m\n\u001b[1;33m    python.exe -m pip install --upgrade pip\u001b[0m\n\u001b[1;37m                  ^\u001b[0m\n\u001b[1;31mSyntaxError\u001b[0m\u001b[1;31m:\u001b[0m invalid syntax\n"
     ]
    }
   ],
   "source": [
    "!python.exe -m pip install --upgrade pip\n",
    "!pip install psycopg2-binary"
   ]
  },
  {
   "cell_type": "markdown",
   "metadata": {},
   "source": [
    "**Relancez le kernel**: Kernel -> Restart kernel ..."
   ]
  },
  {
   "cell_type": "code",
   "execution_count": 2,
   "metadata": {
    "tags": []
   },
   "outputs": [],
   "source": [
    "import psycopg2"
   ]
  },
  {
   "cell_type": "code",
   "execution_count": 3,
   "metadata": {
    "id": "mtYy8HDLMQj_",
    "tags": []
   },
   "outputs": [
    {
     "name": "stderr",
     "output_type": "stream",
     "text": [
      "'pwd' n'est pas reconnu en tant que commande interne\n",
      "ou externe, un programme ex‚cutable ou un fichier de commandes.\n"
     ]
    }
   ],
   "source": [
    "!pwd"
   ]
  },
  {
   "cell_type": "markdown",
   "metadata": {
    "id": "ZuC2MndLMeAt"
   },
   "source": [
    "Télécharger le pilote de H2"
   ]
  },
  {
   "cell_type": "code",
   "execution_count": null,
   "metadata": {
    "id": "tPrvBdynLvBg",
    "tags": []
   },
   "outputs": [],
   "source": [
    "!wget https://nuage.lip6.fr/s/LqD9N23kxrfHopr/download?path=agreg/postgresql-42.6.0.jar -O postgresql-42.6.0.jar\n",
    "!wget https://nuage.lip6.fr/s/LqD9N23kxrfHopr/download?path=agreg/h2-2.1.214.jar -O h2-2.1.214.jar"
   ]
  },
  {
   "cell_type": "code",
   "execution_count": null,
   "metadata": {
    "id": "uYFrmROKQRhM",
    "tags": []
   },
   "outputs": [],
   "source": [
    "import os\n",
    "local_dir = \"./data\"\n",
    "os.makedirs(local_dir, exist_ok=True)\n",
    "os.listdir(local_dir)"
   ]
  },
  {
   "cell_type": "markdown",
   "metadata": {
    "id": "hsCZZv8lmbBK"
   },
   "source": [
    "Démarrer le serveur SQL H2"
   ]
  },
  {
   "cell_type": "code",
   "execution_count": null,
   "metadata": {
    "id": "rLcOCISm-R1Z",
    "tags": []
   },
   "outputs": [],
   "source": [
    "%%bash --bg --out output\n",
    "java -Dh2.bindAddress=127.0.0.1 -cp h2-2.1.214.jar:postgresql-42.6.0.jar org.h2.tools.Server -baseDir ./data -ifNotExists"
   ]
  },
  {
   "cell_type": "markdown",
   "metadata": {
    "id": "9pRE5cm-K_QB"
   },
   "source": [
    "## Fonctions utiles"
   ]
  },
  {
   "cell_type": "code",
   "execution_count": null,
   "metadata": {
    "id": "QeRcwYddK_QA",
    "tags": []
   },
   "outputs": [],
   "source": [
    "def connect_H2(db,user,password):\n",
    "    global connection\n",
    "    try:\n",
    "        connection\n",
    "    except:\n",
    "        connection = None\n",
    "    if connection != None:\n",
    "        try:\n",
    "            connection.close()\n",
    "            print(\"Connection closed\")\n",
    "        except  Error as e:\n",
    "            print(f\"The error '{e}' occurred\")\n",
    "    try:\n",
    "        # connection = sqlite3.connect(path,isolation_level='DEFERRED')\n",
    "        connection = psycopg2.connect(f\"dbname={db} user={user} password={password} host=localhost port=5435\")\n",
    "        print(\"Connection to H2 DB successful\")\n",
    "    except Exception as e:\n",
    "        print(f\"The error '{e}' occurred\")\n",
    "    return connection"
   ]
  },
  {
   "cell_type": "code",
   "execution_count": null,
   "metadata": {
    "id": "dDn3cAlHK_QB",
    "tags": []
   },
   "outputs": [],
   "source": [
    "def execute(connection, query, show=True,close=True):\n",
    "    try:\n",
    "        cursor = connection.cursor()\n",
    "        cursor.execute(query)\n",
    "        print(cursor.rowcount,\"rows\")\n",
    "        if show and cursor.rowcount:\n",
    "            names = [desc[0] for desc in cursor.description]\n",
    "            for attr in names:\n",
    "                print(str(attr[:16]).ljust(16),end='|')\n",
    "            print()\n",
    "            for attr in names:\n",
    "                print(''.ljust(17,'-'),end='')\n",
    "            print()\n",
    "            for ligne in cursor:\n",
    "                for attr in ligne:\n",
    "                    print(str(attr)[:16].ljust(16),end='|')\n",
    "                print()\n",
    "        if close:\n",
    "            cursor.close()\n",
    "    except Exception as e:\n",
    "        print(f\"The error '{e}' occurred\")\n",
    "        cursor=None\n",
    "    return cursor"
   ]
  },
  {
   "cell_type": "markdown",
   "metadata": {
    "id": "00mRiA73K_QB",
    "tags": []
   },
   "source": [
    "## Connexion à H2"
   ]
  },
  {
   "cell_type": "code",
   "execution_count": null,
   "metadata": {
    "id": "IRyyRAX2K_QB",
    "tags": []
   },
   "outputs": [],
   "source": [
    "connection = connect_H2(\"jo\",\"ba\",\"ba\")"
   ]
  },
  {
   "cell_type": "code",
   "execution_count": null,
   "metadata": {
    "id": "And0zODlK_QC",
    "tags": []
   },
   "outputs": [],
   "source": [
    "execute(connection,\"drop all objects\")"
   ]
  },
  {
   "cell_type": "markdown",
   "metadata": {
    "id": "zHpjYeKDK_P9",
    "tags": []
   },
   "source": [
    "# TD 4 et TME4 : PREMIERS PAS EN SQL\n",
    "\n",
    "Ce TD/TME utilise les données contenues dans les fichiers **bd_jo_v1_H2.sql** et **bd_jo_v2_H2.sql**\n"
   ]
  },
  {
   "cell_type": "markdown",
   "metadata": {
    "id": "zHpjYeKDK_P9",
    "tags": []
   },
   "source": [
    "## TD4 \n",
    "\n",
    "Ce TD utilise les données contenues dans les fichiers **bd_jo_v1_H2.sql** \n",
    "\n",
    "BASE DE DONNÉES **JEUX OLYMPIQUES D'HIVER 2014** <br/>\n",
    "On considère le schéma de la base JEUXOLYMPIQUE2014 qui décrit les athlètes et leurs résultats aux\n",
    "épreuves des Jeux Olympiques d'Hiver Sotchi 2014 :<br/>\n",
    "\n",
    "\n",
    "**ATHLETE** ( <u>NOM,PRENOM</u>,DATENAISSANCE,PAYS)<br/>\n",
    "**RANGEPREUVE**( <u>NOMATH*,PRENOMATH*,EPREUVE,SPORT,CATEGORIE</u>,DATEDEBUT,DATEFIN,RANG)<br/>\n",
    "\n",
    "La relation ATHLETE contient des informations concernant les athlètes ayant participé aux Jeux\n",
    "Olympiques. Plus précisément : leur nom, leur prénom, leur date de naissance si elle est renseignée\n",
    "(ou NULL sinon) ainsi que le pays qu'ils représentent.\n",
    "La relation RANGEPREUVE renvoie pour chaque athlète identifie par NOMATH ET PRENOMATH et\n",
    "chaque épreuve identifiée par SPORT, EPREUVE ET CATEGORIE (HOMMES OU FEMMES) à laquelle il a\n",
    "participé, le RANG qu'il a obtenu. On pour chaque épreuve les dates de début et de fin (DATEDEBUT,\n",
    "DATEFIN).\n",
    "Lorsqu'un athlète participe à une épreuve puis est disqualifié, son rang n'est pas renseigné (NULL)\n",
    "\n"
   ]
  },
  {
   "cell_type": "markdown",
   "metadata": {
    "id": "Sd2wejT-K_QN",
    "tags": []
   },
   "source": [
    "### Télécharger les données, créer et charger les données"
   ]
  },
  {
   "cell_type": "markdown",
   "metadata": {
    "id": "9w7RdMnlSC_r"
   },
   "source": [
    "Télécharger le fichier SQL **bd_jo_v1_H2.sql** contenant les données de la base JO."
   ]
  },
  {
   "cell_type": "code",
   "execution_count": null,
   "metadata": {
    "id": "BZCOAS6mP27Y",
    "tags": []
   },
   "outputs": [],
   "source": [
    "!wget https://nuage.lip6.fr/s/LqD9N23kxrfHopr/download?path=agreg/bd-jo-v1_H2.sql -O bd-jo-v1_H2.sql"
   ]
  },
  {
   "cell_type": "markdown",
   "metadata": {
    "tags": []
   },
   "source": [
    "Créer les tables et charger les données bd_jo_v1_H2.sql"
   ]
  },
  {
   "cell_type": "code",
   "execution_count": null,
   "metadata": {
    "id": "ALsb-dtHK_QO",
    "tags": []
   },
   "outputs": [],
   "source": [
    "schemafile=open(\"bd-jo-v1_H2.sql\",mode=\"r\",encoding='utf-8')\n",
    "create_schema=schemafile.read()\n",
    "execute(connection, create_schema)\n",
    "connection.commit()"
   ]
  },
  {
   "cell_type": "markdown",
   "metadata": {
    "id": "Sd2wejT-K_QN",
    "tags": []
   },
   "source": [
    "### Requêtes"
   ]
  },
  {
   "cell_type": "markdown",
   "metadata": {},
   "source": [
    "**ATTENTION :** il ne faut PAS terminer les requêtes avec ';'"
   ]
  },
  {
   "cell_type": "markdown",
   "metadata": {},
   "source": [
    "**Q1**. Les athlètes français.<br/>\n",
    "Résultat : (92 lignes)"
   ]
  },
  {
   "cell_type": "code",
   "execution_count": null,
   "metadata": {
    "id": "qc0wptxuK_QC",
    "tags": []
   },
   "outputs": [],
   "source": [
    "query=\"\"\"\n",
    "\n",
    "\n",
    "\n",
    "\n",
    "\"\"\""
   ]
  },
  {
   "cell_type": "code",
   "execution_count": null,
   "metadata": {
    "id": "qc0wptxuK_QC",
    "tags": []
   },
   "outputs": [],
   "source": [
    "# Afficher le nombre de n-uplets (par defaut)\n",
    "execute(connection,query, show=False)"
   ]
  },
  {
   "cell_type": "code",
   "execution_count": null,
   "metadata": {
    "id": "qc0wptxuK_QC",
    "tags": []
   },
   "outputs": [],
   "source": [
    "# Afficher le résultat (par defaut)\n",
    "execute(connection,query)"
   ]
  },
  {
   "cell_type": "markdown",
   "metadata": {},
   "source": [
    "**Q2**. La date de naissance de Denis TEN.<br/>\n",
    "Résultat: 1993-06-13"
   ]
  },
  {
   "cell_type": "code",
   "execution_count": null,
   "metadata": {
    "id": "qc0wptxuK_QC"
   },
   "outputs": [],
   "source": [
    "query=\"\"\"\n",
    "\n",
    "\n",
    "\n",
    "\"\"\"\n",
    "execute(connection,query)"
   ]
  },
  {
   "cell_type": "markdown",
   "metadata": {},
   "source": [
    "**Q3**. Les épreuves (sport, épreuve) dans lesquelles Therese JOHAUG a gagné une médaille, ainsi\n",
    "que le rang qu'elle a obtenu.<br/>\n",
    "Indice : pour gagner une médaille, il faut avoir été classé dans le rang 1, 2 ou 3.<br/>\n",
    "Résultat : ('Ski de fond', '10km', 3) et ('Ski de fond', '30km', 2)"
   ]
  },
  {
   "cell_type": "code",
   "execution_count": null,
   "metadata": {
    "id": "qc0wptxuK_QC"
   },
   "outputs": [],
   "source": [
    "query=\"\"\"\n",
    "\n",
    "\n",
    "\n",
    "\"\"\"\n",
    "execute(connection,query)"
   ]
  },
  {
   "cell_type": "markdown",
   "metadata": {},
   "source": [
    "**Q4**. La nationalité des athlètes Kamil STOCH et Suk-Hee SHIM.<br/>\n",
    "Résultat : ('SHIM', 'Suk-Hee', 'Corée du Sud') et ('STOCH', 'Kamil', 'Pologne')"
   ]
  },
  {
   "cell_type": "code",
   "execution_count": null,
   "metadata": {
    "id": "qc0wptxuK_QC"
   },
   "outputs": [],
   "source": [
    "query=\"\"\"\n",
    "\n",
    "\n",
    "\n",
    "\"\"\"\n",
    "execute(connection,query)"
   ]
  },
  {
   "cell_type": "markdown",
   "metadata": {},
   "source": [
    "**Q5**. Tous les sports des Jeux Olympiques.<br/>\n",
    "Résultat : (12 lignes)"
   ]
  },
  {
   "cell_type": "code",
   "execution_count": null,
   "metadata": {
    "id": "qc0wptxuK_QC"
   },
   "outputs": [],
   "source": [
    "query=\"\"\"\n",
    "\n",
    "\n",
    "\n",
    "\"\"\"\n",
    "execute(connection,query)"
   ]
  },
  {
   "cell_type": "markdown",
   "metadata": {},
   "source": [
    "**Q6**. Le nom des athlètes originaire de Scandinavie (pays : Danemark, Finlande, Norvège, Suède,\n",
    "Islande) triés par le nom, puis par leur prénom.<br/>\n",
    "Résultat : (186 lignes)"
   ]
  },
  {
   "cell_type": "code",
   "execution_count": null,
   "metadata": {
    "id": "qc0wptxuK_QC"
   },
   "outputs": [],
   "source": [
    "query=\"\"\"\n",
    "\n",
    "\n",
    "\n",
    "\"\"\"\n",
    "execute(connection,query)"
   ]
  },
  {
   "cell_type": "markdown",
   "metadata": {},
   "source": [
    "**Q7**. Le nom de sports contenant la chaîne de caractères 'ski' (par exemple, 'Ski de fond', 'Saut à\n",
    "ski', …).<br/>\n",
    "Résultat : Ski de fond, Ski alpin, Ski acrobatique, Saut à ski"
   ]
  },
  {
   "cell_type": "code",
   "execution_count": null,
   "metadata": {
    "id": "qc0wptxuK_QC"
   },
   "outputs": [],
   "source": [
    "query=\"\"\"\n",
    "\n",
    "\n",
    "\n",
    "\"\"\"\n",
    "execute(connection,query)"
   ]
  },
  {
   "cell_type": "markdown",
   "metadata": {},
   "source": [
    "**Q8**. Les athlètes (nom, prénom) dont la date de naissance n'est pas renseignée.<br/>\n",
    "Résultat : (1516 lignes)"
   ]
  },
  {
   "cell_type": "code",
   "execution_count": null,
   "metadata": {
    "id": "qc0wptxuK_QC"
   },
   "outputs": [],
   "source": [
    "query=\"\"\"\n",
    "\n",
    "\n",
    "\n",
    "\"\"\"\n",
    "execute(connection,query)"
   ]
  },
  {
   "cell_type": "markdown",
   "metadata": {},
   "source": [
    "**Q9**. Les athlètes qui ont participé à l'épreuve '10km' de 'Ski de fond' sans être disqualifié (rang\n",
    "inconnu), triés par rang.<br/>\n",
    "Résultat : (75 lignes) "
   ]
  },
  {
   "cell_type": "code",
   "execution_count": null,
   "metadata": {
    "id": "qc0wptxuK_QC"
   },
   "outputs": [],
   "source": [
    "query=\"\"\"\n",
    "\n",
    "\n",
    "\n",
    "\"\"\"\n",
    "execute(connection,query)"
   ]
  },
  {
   "cell_type": "markdown",
   "metadata": {},
   "source": [
    "**Q10**. Les épreuves (sport, épreuve et categorie) qui ont eu lieu après le 21 février 2014.<br/>\n",
    "Résultat : (4 lignes)"
   ]
  },
  {
   "cell_type": "code",
   "execution_count": null,
   "metadata": {
    "id": "qc0wptxuK_QC"
   },
   "outputs": [],
   "source": [
    "query=\"\"\"\n",
    "\n",
    "\n",
    "\n",
    "\"\"\"\n",
    "execute(connection,query)"
   ]
  },
  {
   "cell_type": "markdown",
   "metadata": {},
   "source": [
    "**Q11**. Les épreuves (sport, épreuve et categorie) qui ont duré entre 2 et 4 jours, ainsi que leur\n",
    "durée exacte.<br/>\n",
    "Résultat : (16 lignes)"
   ]
  },
  {
   "cell_type": "code",
   "execution_count": null,
   "metadata": {
    "id": "qc0wptxuK_QC"
   },
   "outputs": [],
   "source": [
    "query=\"\"\"\n",
    "\n",
    "\n",
    "\n",
    "\"\"\"\n",
    "execute(connection,query)"
   ]
  },
  {
   "cell_type": "markdown",
   "metadata": {},
   "source": [
    "**Q12**. Les épreuves (sport, épreuve et catégorie) dont le final a eu lieu pendant un weekend.<br/>\n",
    "Résultat : (26 lignes)"
   ]
  },
  {
   "cell_type": "code",
   "execution_count": null,
   "metadata": {
    "id": "qc0wptxuK_QC"
   },
   "outputs": [],
   "source": [
    "query=\"\"\"\n",
    "\n",
    "\n",
    "\n",
    "\"\"\"\n",
    "execute(connection,query)"
   ]
  },
  {
   "cell_type": "markdown",
   "metadata": {},
   "source": [
    "**Q13**. Les athlètes (nom, prénom) femmes de nationalité française.<br/>\n",
    "Résultat : (26 lignes)"
   ]
  },
  {
   "cell_type": "code",
   "execution_count": null,
   "metadata": {
    "id": "qc0wptxuK_QC"
   },
   "outputs": [],
   "source": [
    "query=\"\"\"\n",
    "\n",
    "\n",
    "\n",
    "\"\"\"\n",
    "execute(connection,query)"
   ]
  },
  {
   "cell_type": "markdown",
   "metadata": {},
   "source": [
    "**Q14**. Les athlètes (nom, prénom) qui ont aujourd'hui moins de 30 ans et qui ont gagné une\n",
    "médaille.<br/>\n",
    "Résultat : depend de la date d'exécution "
   ]
  },
  {
   "cell_type": "code",
   "execution_count": null,
   "metadata": {
    "id": "qc0wptxuK_QC"
   },
   "outputs": [],
   "source": [
    "query=\"\"\"\n",
    "\n",
    "\n",
    "\n",
    "\"\"\"\n",
    "execute(connection,query)"
   ]
  },
  {
   "cell_type": "markdown",
   "metadata": {},
   "source": [
    "**Q15**. Les athlètes (nom, prénom) qui avaient leur anniversaire à la date de fin de l'épreuve dans\n",
    "laquelle ils participaient.<br/>\n",
    "Résultat : ('GARANICHEV', 'Evgeniy', 13, 2), ('SKOBREV', 'Ivan', 8, 2) et ('WEIBRECHT',\n",
    "'Andrew', 10, 2)"
   ]
  },
  {
   "cell_type": "code",
   "execution_count": null,
   "metadata": {
    "id": "qc0wptxuK_QC"
   },
   "outputs": [],
   "source": [
    "query=\"\"\"\n",
    "\n",
    "\n",
    "\n",
    "\"\"\"\n",
    "execute(connection,query)"
   ]
  },
  {
   "cell_type": "markdown",
   "metadata": {},
   "source": [
    "**Q16**.  Les athlètes français (nom, prénom) qui ont gagné une médaille.<br/>\n",
    "Résultat : (12 lignes)"
   ]
  },
  {
   "cell_type": "code",
   "execution_count": null,
   "metadata": {
    "id": "qc0wptxuK_QC"
   },
   "outputs": [],
   "source": [
    "query=\"\"\"\n",
    "\n",
    "\n",
    "\n",
    "\"\"\"\n",
    "execute(connection,query)"
   ]
  },
  {
   "cell_type": "markdown",
   "metadata": {},
   "source": [
    "**Q17**. Les sports qui n'ont pas d'épreuves féminines.<br/>\n",
    "Résultat : Combiné nordique"
   ]
  },
  {
   "cell_type": "code",
   "execution_count": null,
   "metadata": {
    "id": "qc0wptxuK_QC"
   },
   "outputs": [],
   "source": [
    "query=\"\"\"\n",
    "\n",
    "\n",
    "\n",
    "\"\"\"\n",
    "execute(connection,query)"
   ]
  },
  {
   "cell_type": "markdown",
   "metadata": {
    "id": "zHpjYeKDK_P9",
    "tags": []
   },
   "source": [
    "## TME4 \n",
    "\n",
    "Ce TME utilise les données contenues dans les fichiers **bd_jo_v1_H2.sql** et **bd_jo_v2_H2.sql**\n"
   ]
  },
  {
   "cell_type": "markdown",
   "metadata": {},
   "source": [
    "### Exemple d'utilisation H2"
   ]
  },
  {
   "cell_type": "markdown",
   "metadata": {
    "tags": []
   },
   "source": [
    "Tous les athlètes"
   ]
  },
  {
   "cell_type": "code",
   "execution_count": null,
   "metadata": {
    "tags": []
   },
   "outputs": [],
   "source": [
    "cursor=execute(connection,query=\"SELECT * FROM athlete\",show=True)"
   ]
  },
  {
   "cell_type": "code",
   "execution_count": null,
   "metadata": {
    "tags": []
   },
   "outputs": [],
   "source": [
    "cursor.query"
   ]
  },
  {
   "cell_type": "code",
   "execution_count": null,
   "metadata": {
    "tags": []
   },
   "outputs": [],
   "source": [
    "cursor.rowcount"
   ]
  },
  {
   "cell_type": "code",
   "execution_count": null,
   "metadata": {
    "tags": []
   },
   "outputs": [],
   "source": [
    "cursor.description"
   ]
  },
  {
   "cell_type": "markdown",
   "metadata": {},
   "source": [
    "Le nombre de n-uplets stockés dans la relation Athlete."
   ]
  },
  {
   "cell_type": "code",
   "execution_count": null,
   "metadata": {
    "tags": []
   },
   "outputs": [],
   "source": [
    "cursor=execute(connection,query=\"select count(*) from Athlete\", show=True)"
   ]
  },
  {
   "cell_type": "markdown",
   "metadata": {},
   "source": [
    "### Exercice 1\n",
    "\n",
    "Exprimer les requêtes suivantes en SQL "
   ]
  },
  {
   "cell_type": "markdown",
   "metadata": {},
   "source": [
    "**Q1**. Les athlètes (nom, prénom) d'Inde (104 lignes).<br/>\n",
    "Résultat : IQBAL Nadeem, KESHAVAN Shiva, THAKUR Himanshu"
   ]
  },
  {
   "cell_type": "code",
   "execution_count": null,
   "metadata": {
    "id": "qc0wptxuK_QC"
   },
   "outputs": [],
   "source": [
    "query=\"\"\"\n",
    "\n",
    "\n",
    "\n",
    "\"\"\"\n",
    "execute(connection,query)"
   ]
  },
  {
   "cell_type": "markdown",
   "metadata": {},
   "source": [
    "**Q2** Le prénom des athlètes dont le nom est 'GOLD'.<br/>\n",
    "Résultat : Arielle, Gracie, Taylor"
   ]
  },
  {
   "cell_type": "code",
   "execution_count": null,
   "metadata": {
    "id": "GJDia4KfK_QC"
   },
   "outputs": [],
   "source": [
    "query=\"\"\"\n",
    "\n",
    "\n",
    "\n",
    "\"\"\"\n",
    "execute(connection,query)"
   ]
  },
  {
   "cell_type": "markdown",
   "metadata": {},
   "source": [
    "**Q3** La nationalité de AONO Ryo.<br/>\n",
    "Résultat : Japon"
   ]
  },
  {
   "cell_type": "code",
   "execution_count": null,
   "metadata": {
    "id": "RG0fmAcsK_QC"
   },
   "outputs": [],
   "source": [
    "query=\"\"\"\n",
    "\n",
    "\n",
    "\n",
    "\n",
    "\"\"\"\n",
    "execute(connection,query)"
   ]
  },
  {
   "cell_type": "markdown",
   "metadata": {},
   "source": [
    "**Q4** Le gagnant du médaille d'or de chaque épreuve. Triez le résultat par sport, puis par épreuve.<br/>\n",
    "Résultat : (74 lignes)"
   ]
  },
  {
   "cell_type": "code",
   "execution_count": null,
   "metadata": {
    "id": "R4Msxey7K_QC"
   },
   "outputs": [],
   "source": [
    "query=\"\"\"\n",
    "\n",
    "\n",
    "\n",
    "\n",
    "\n",
    "\"\"\"\n",
    "execute(connection,query)"
   ]
  },
  {
   "cell_type": "markdown",
   "metadata": {},
   "source": [
    "**Q5** Toutes les épreuves (sport, épreuve, catégorie) triées par la date de fin de l'épreuve.   \n",
    "Résultat : (73 lignes)"
   ]
  },
  {
   "cell_type": "code",
   "execution_count": null,
   "metadata": {
    "id": "R4Msxey7K_QC"
   },
   "outputs": [],
   "source": [
    "query=\"\"\"\n",
    "\n",
    "\n",
    "\n",
    "\n",
    "\n",
    "\"\"\"\n",
    "execute(connection,query)"
   ]
  },
  {
   "cell_type": "markdown",
   "metadata": {},
   "source": [
    "**Q6** Les athlètes nés entre 1990 et 1995.<br/>\n",
    "Résultat : (87 lignes)"
   ]
  },
  {
   "cell_type": "code",
   "execution_count": null,
   "metadata": {
    "id": "R4Msxey7K_QC"
   },
   "outputs": [],
   "source": [
    "query=\"\"\"\n",
    "\n",
    "\n",
    "\n",
    "\n",
    "\n",
    "\"\"\"\n",
    "execute(connection,query)"
   ]
  },
  {
   "cell_type": "markdown",
   "metadata": {},
   "source": [
    "**Q7** Les athlètes suisses ayant participé au sport 'Biathlon' et disqualifié à au moins une épreuve\n",
    "dece sport (solution sans jointure, avec une opération ensembliste).<br/>\n",
    "Résultat : GASPARIN Elisa"
   ]
  },
  {
   "cell_type": "code",
   "execution_count": null,
   "metadata": {
    "id": "R4Msxey7K_QC"
   },
   "outputs": [],
   "source": [
    "query=\"\"\"\n",
    "\n",
    "\n",
    "\n",
    "\n",
    "\n",
    "\"\"\"\n",
    "execute(connection,query)"
   ]
  },
  {
   "cell_type": "markdown",
   "metadata": {},
   "source": [
    "**Q8** Les épreuves dans lesquelles il n'y a pas eu une médaille d'argent (solution sans jointure,\n",
    "avec une opération ensembliste). <br/>\n",
    "Résultat : Ski alpin Descente Femmes"
   ]
  },
  {
   "cell_type": "code",
   "execution_count": null,
   "metadata": {
    "id": "R4Msxey7K_QC"
   },
   "outputs": [],
   "source": [
    "query=\"\"\"\n",
    "\n",
    "\n",
    "\n",
    "\n",
    "\n",
    "\"\"\"\n",
    "execute(connection,query)"
   ]
  },
  {
   "cell_type": "markdown",
   "metadata": {
    "id": "Tb2N2-b0K_QC",
    "tags": []
   },
   "source": [
    "### Exercice 2\n",
    "\n",
    "On considère maintenant le schéma complet de la base JO2014\n",
    "\n",
    "**PAYS** (<u>CODEPAYS</u>, NOMP)<br/>\n",
    "**SPORT** (<u>SID</u>, NOMSP)<br/>\n",
    "**EPREUVE** (<u>EPID</u>, SID*, NOMEP, CATÉGORIE, DATEDEBUT, DATEFIN) <br/>\n",
    "**ATHLETE** (<u>AID</u>, NOMATH, PRENOMATH, DATENAISSANCE, CODEPAYS*) EQUIPE (EQID, CODEPAYS*)<br/>\n",
    "**ATHLETESEQUIPE** (<u>EQID*, AID*</u>)<br/>\n",
    "**RANGINDIVIDUEL** (<u>EPID*, AID*</u>, RANG)<br/>\n",
    "**RANGEQUIPE** (<u>EPID*, EQID*</u>, RANG)<br/>\n",
    "    \n",
    "\n",
    "La relation PAYS contient le code et le nom de tous les pays, même si ils n'ont pas participé aux Jeux Olympiques. Les sports (n-uplets de la relation SPORT) sont un ensemble d'épreuves (n-uplets de la relation EPREUVE). Pour chaque épreuve on connaît son nom et les date de début et fin de l'épreuve. Les épreuves peuvent être individuelles ou par équipe. Dans le premier cas, la participation des athlètes (n-uplets de la relation ATHLETE) est stocké dans la table RANGINDIVIDUEL qui contient en plus le rang qu'ils ont obtenu (1 pour la médaille d'or). Pour les épreuves par équipe les résultats sont stockés dans la relation RANGEQUIPE, alors que l'information sur le pays de chaque équipe et ses participants et stocké dans les relations EQUIPE et ATHLETESEQUIPE. Dans les relations RANGINDIVIDUEL et RANGEQUIPE l'attribut rang est égal à null si l'athlète ou l'équipe a été disqualifié.\n"
   ]
  },
  {
   "cell_type": "markdown",
   "metadata": {
    "id": "Sd2wejT-K_QN",
    "tags": []
   },
   "source": [
    "#### Télécharger les données, créer et charger les données"
   ]
  },
  {
   "cell_type": "markdown",
   "metadata": {
    "id": "9w7RdMnlSC_r"
   },
   "source": [
    "Télécharger le fichier SQL **bd_jo_v2_H2.sql** contenant les données de la base JO."
   ]
  },
  {
   "cell_type": "code",
   "execution_count": null,
   "metadata": {
    "id": "BZCOAS6mP27Y"
   },
   "outputs": [],
   "source": [
    "!wget https://nuage.lip6.fr/s/LqD9N23kxrfHopr/download?path=agreg/bd-jo-v2_H2.sql -O bd-jo-v2_H2.sql"
   ]
  },
  {
   "cell_type": "markdown",
   "metadata": {
    "tags": []
   },
   "source": [
    "Créer les tables et charger les données bd_jo_v2_H2.sql"
   ]
  },
  {
   "cell_type": "code",
   "execution_count": null,
   "metadata": {
    "id": "ALsb-dtHK_QO"
   },
   "outputs": [],
   "source": [
    "schemafile=open(\"bd-jo-v2_H2.sql\",mode=\"r\",encoding='utf-8')\n",
    "create_schema=schemafile.read()\n",
    "execute(connection, create_schema)\n",
    "connection.commit()"
   ]
  },
  {
   "cell_type": "markdown",
   "metadata": {},
   "source": [
    "#### Requêtes\n",
    "\n",
    "Exprimer les requêtes suivantes en SQL :"
   ]
  },
  {
   "cell_type": "markdown",
   "metadata": {},
   "source": [
    "**Q9**. Les épreuves (sport, épreuve, catégorie) individuelles.<br/>\n",
    "Résultat : (73 lignes)"
   ]
  },
  {
   "cell_type": "code",
   "execution_count": null,
   "metadata": {
    "id": "eRUNvSL9K_QC"
   },
   "outputs": [],
   "source": [
    "query=\"\"\"\n",
    "\n",
    "\n",
    "\n",
    "\n",
    "\n",
    "\n",
    ")\n",
    "\"\"\"\n",
    "execute(connection,query)\n"
   ]
  },
  {
   "cell_type": "markdown",
   "metadata": {},
   "source": [
    "**Q10**. Les résultats (nom, prénom, pays de l'athlète et rang) de l'épreuve '1000m' du 'Patinage de vitesse' pour les 'Femmes'.<br/>\n",
    "Résultat : (36 lignes)"
   ]
  },
  {
   "cell_type": "code",
   "execution_count": null,
   "metadata": {
    "id": "t_M_AYEOK_QC"
   },
   "outputs": [],
   "source": [
    "query=\"\"\"\n",
    "\n",
    "\n",
    "\n",
    "\n",
    ")\n",
    "\"\"\"\n",
    "execute(connection,query)"
   ]
  },
  {
   "cell_type": "markdown",
   "metadata": {},
   "source": [
    "**Q11**. Le nom et prénom des athlètes qui forment l'équipe qui a gagné la médaille d'or dans l'épreuve 'relais 4x6km' de 'Biathlon' de 'Femmes'.   \n",
    "Résultat : SEMERENKO Vita, SEMERENKO Valj, DZHYMA Juliya, PIDHRUSHNA Olena"
   ]
  },
  {
   "cell_type": "code",
   "execution_count": null,
   "metadata": {
    "id": "uKGV_oUGK_QC"
   },
   "outputs": [],
   "source": [
    "query=\"\"\"\n",
    "\n",
    "\n",
    "\n",
    "\n",
    "\n",
    ")\n",
    "\"\"\"\n",
    "execute(connection,query)"
   ]
  },
  {
   "cell_type": "markdown",
   "metadata": {
    "id": "XGY3Xv2GK_Qk"
   },
   "source": [
    "# Fermer la connexion"
   ]
  },
  {
   "cell_type": "code",
   "execution_count": null,
   "metadata": {
    "id": "sL8PCTDbK_Qk"
   },
   "outputs": [],
   "source": [
    "connection.close()"
   ]
  }
 ],
 "metadata": {
  "colab": {
   "collapsed_sections": [
    "zBRndOPPVrcb",
    "CaBMZBPgK_QE",
    "3HyPG6wGK_QK"
   ],
   "provenance": [],
   "toc_visible": true
  },
  "interpreter": {
   "hash": "3f7970bd1fb3f240334e0295161dab121eeb02ebe2a02561bbc5f2c38513dba7"
  },
  "kernelspec": {
   "display_name": "Python 3 (ipykernel)",
   "language": "python",
   "name": "python3"
  },
  "language_info": {
   "codemirror_mode": {
    "name": "ipython",
    "version": 3
   },
   "file_extension": ".py",
   "mimetype": "text/x-python",
   "name": "python",
   "nbconvert_exporter": "python",
   "pygments_lexer": "ipython3",
   "version": "3.11.4"
  },
  "toc-autonumbering": true,
  "toc-showcode": false,
  "toc-showmarkdowntxt": false,
  "toc-showtags": false
 },
 "nbformat": 4,
 "nbformat_minor": 4
}
