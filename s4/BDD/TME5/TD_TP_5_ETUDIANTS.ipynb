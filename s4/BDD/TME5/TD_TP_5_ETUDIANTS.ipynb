{
 "cells": [
  {
   "cell_type": "code",
   "execution_count": 1,
   "metadata": {
    "tags": []
   },
   "outputs": [
    {
     "name": "stdout",
     "output_type": "stream",
     "text": [
      "Defaulting to user installation because normal site-packages is not writeable\n",
      "Requirement already satisfied: psycopg2-binary in ./.local/lib/python3.12/site-packages (2.9.9)\n",
      "Note: you may need to restart the kernel to use updated packages.\n"
     ]
    }
   ],
   "source": [
    "pip install psycopg2-binary"
   ]
  },
  {
   "cell_type": "markdown",
   "metadata": {},
   "source": [
    "https://www.psycopg.org/docs/\n",
    "http://localhost:8082"
   ]
  },
  {
   "cell_type": "markdown",
   "metadata": {
    "id": "ZuC2MndLMeAt"
   },
   "source": [
    "Télécharger le pilote de H2**Relancez le kernel**: Kernel -> Restart kernel ..."
   ]
  },
  {
   "cell_type": "markdown",
   "metadata": {},
   "source": [
    "Télécharger le pilote de H2"
   ]
  },
  {
   "cell_type": "code",
   "execution_count": null,
   "metadata": {},
   "outputs": [],
   "source": [
    "!wget https://nuage.lip6.fr/s/LqD9N23kxrfHopr/download?path=agreg/postgresql-42.6.0.jar -O postgresql-42.6.0.jar\n",
    "!wget https://nuage.lip6.fr/s/LqD9N23kxrfHopr/download?path=agreg/h2-2.1.214.jar -O h2-2.1.214.jar"
   ]
  },
  {
   "cell_type": "code",
   "execution_count": 2,
   "metadata": {
    "id": "uYFrmROKQRhM",
    "tags": []
   },
   "outputs": [
    {
     "data": {
      "text/plain": [
       "['jo8115.mv.db', '.ipynb_checkpoints', 'jo5115.mv.db']"
      ]
     },
     "execution_count": 2,
     "metadata": {},
     "output_type": "execute_result"
    }
   ],
   "source": [
    "import psycopg2\n",
    "import os\n",
    "local_dir = \"./data\"\n",
    "os.makedirs(local_dir, exist_ok=True)\n",
    "os.listdir(local_dir)"
   ]
  },
  {
   "cell_type": "markdown",
   "metadata": {
    "id": "hsCZZv8lmbBK"
   },
   "source": [
    "## Démarrer le serveur SQL H2"
   ]
  },
  {
   "cell_type": "code",
   "execution_count": null,
   "metadata": {
    "tags": []
   },
   "outputs": [],
   "source": [
    "#Remplacez les valeurs des variables suivantes\n",
    "#NN= numéro de groupe: chaine de caractères (ex: 01, 02,.., 13), remplacer xx \n",
    "NN = 'xx'\n",
    "#BB=numero binome: chaîne de caractères (assigné par l'enseignant, ex: 01,..., 15), remplacer xx\n",
    "BB = 'xx'\n",
    "port = 5000+int(NN+BB)\n",
    "print(f'Le numero du port utilisé pour la connexion à la BD est: {port}')"
   ]
  },
  {
   "cell_type": "code",
   "execution_count": 4,
   "metadata": {
    "id": "rLcOCISm-R1Z",
    "tags": []
   },
   "outputs": [],
   "source": [
    "%%bash --bg --out output -s \"$port\"\n",
    "java -Dh2.bindAddress=127.0.0.1 -cp h2-2.1.214.jar:postgresql-42.6.0.jar org.h2.tools.Server -pg -pgPort $1 -baseDir ./data -ifNotExists"
   ]
  },
  {
   "cell_type": "markdown",
   "metadata": {},
   "source": [
    "# Fonctions utiles"
   ]
  },
  {
   "cell_type": "markdown",
   "metadata": {
    "tags": []
   },
   "source": [
    "## connect_H2"
   ]
  },
  {
   "cell_type": "code",
   "execution_count": 5,
   "metadata": {
    "tags": []
   },
   "outputs": [],
   "source": [
    "def connect_H2(db,user,password):\n",
    "    global connection\n",
    "    try:\n",
    "        connection\n",
    "    except:\n",
    "        connection = None\n",
    "    if connection != None:\n",
    "        try:\n",
    "            connection.close()\n",
    "            print(\"Connection closed\")\n",
    "        except  Error as e:\n",
    "            print(f\"The error '{e}' occurred\")\n",
    "    try:\n",
    "        # connection = sqlite3.connect(path,isolation_level='DEFERRED')\n",
    "        connection = psycopg2.connect(f\"dbname={db} user={user} password={password} host=localhost port={port}\")\n",
    "        print(\"Connection to H2 DB successful\")\n",
    "    except Exception as e:\n",
    "        print(f\"The error '{e}' occurred\")\n",
    "    return connection"
   ]
  },
  {
   "cell_type": "markdown",
   "metadata": {},
   "source": [
    "## execute"
   ]
  },
  {
   "cell_type": "code",
   "execution_count": 12,
   "metadata": {
    "tags": []
   },
   "outputs": [],
   "source": [
    "def execute(connection, query, show=True,close=True):\n",
    "    try:\n",
    "        cursor = connection.cursor()\n",
    "        cursor.execute(query)\n",
    "        print(cursor.rowcount,\"rows\")\n",
    "        if show and cursor.rowcount:\n",
    "            names = [desc[0] for desc in cursor.description]\n",
    "            for attr in names:\n",
    "                print(str(attr[:16]).ljust(16),end='|')\n",
    "            print()\n",
    "            for attr in names:\n",
    "                print(''.ljust(17,'-'),end='')\n",
    "            print()\n",
    "            for ligne in cursor:\n",
    "                for attr in ligne:\n",
    "                    print(str(attr)[:16].ljust(16),end='|')\n",
    "                print()\n",
    "        if close:\n",
    "            cursor.close()\n",
    "    except Exception as e:\n",
    "        print(f\"The error '{e}' occurred\")\n",
    "        cursor=None\n",
    "    return cursor"
   ]
  },
  {
   "cell_type": "markdown",
   "metadata": {
    "id": "zHpjYeKDK_P9",
    "tags": []
   },
   "source": [
    "**TD 5 et TME5 : JOINTURES ET IMBRICATION AVEC IN ET EXISTS**\n",
    "\n",
    "Ce TD/TME utilise les données contenues dans le fichier **bd_jo_v2_H2.sql**\n"
   ]
  },
  {
   "cell_type": "markdown",
   "metadata": {},
   "source": [
    "**Attention**: vous pouvez cliquer sur les 3 lignes dans la fenêtre de gauche pour d'afficher les différentes sections du notebook   "
   ]
  },
  {
   "cell_type": "markdown",
   "metadata": {
    "id": "zHpjYeKDK_P9",
    "tags": []
   },
   "source": [
    "# TD5 \n",
    "\n",
    "On considère le schéma de la base JEUXOLYMPIQUE2014 qui décrit les athlètes et leurs résultats aux\n",
    "épreuves des sports des Jeux Olympiques d'Hiver Sotchi 2014 :\n",
    "\n",
    "**PAYS** ( <u>CODEPAYS</u>, NOMP)<br/>\n",
    "Ex. ('FRA', 'France')<br/>\n",
    "**SPORT** ( <u>SID</u>, NOMSP)<br/>\n",
    "Ex. (1, 'Biathlon')<br/>\n",
    "**EPREUVE** ( <u>EPID</u>, SID*, NOMEP, CATÉGORIE, DATEDEBUT, DATEFIN)<br/>\n",
    "Ex. (10, 1, 'relais 4x7,5km', 'Hommes', 22/02/2014, 22/02/2014)<br/>\n",
    "**ATHLETE** ( <u>AID</u>, NOMATH, PRENOMATH, DATENAISSANCE, CODEPAYS*)<br/>\n",
    "Ex. (1000, 'SOBOLEV', 'Alexey', NULL, 'RUS')<br/>\n",
    "**EQUIPE** ( <u>EQID</u>, CODEPAYS*)<br/>\n",
    "Ex. (30, 'SUI')<br/>\n",
    "**ATHLETESEQUIPE** ( <u>EQID*, AID*</u>)<br/>\n",
    "Ex. (30, 796) : L'athlète (aid=796) a participé à l'équipe (eqid=30)<br/>\n",
    "**RANGINDIVIDUEL** ( <u>EPID*, AID*</u>, RANG)<br/>\n",
    "Ex. (15, 61, 1) : L'athlète (aid=61) a gagné la médaille d'or (rang=1) de l'épreuve (epid=15)<br/>\n",
    "**RANGEQUIPE** ( <u>EPID*, EQID*</u>, RANG)<br/>\n",
    "Ex. (10, 30, 14) : L'équipe (eqid=30) a été classée 14e à l'épreuve (epid=10)<br/>\n",
    "\n",
    "\n",
    "Les attributs qui forment la clé primaire de chaque relation sont soulignés. Les clés étrangères sont\n",
    "signalées avec une *. Les attributs aid, epid, eqid et sid correspondent aux identifiants des athlètes,\n",
    "épreuves, équipes et sports et sont utilisés à la fois comme clé primaire ou comme référence (clé\n",
    "étrangère) vers la relation correspondante.\n",
    "La relation **PAYS** contient le code et le nom de tous les pays, même si ils n'ont pas participé aux\n",
    "Jeux Olympiques. Les sports (n-uplets de la relation **SPORT**) sont un ensemble d'épreuves (n-uplets\n",
    "de la relation **EPREUVE**). Pour chaque épreuve on connaît son nom et les date de début et fin de\n",
    "l'épreuve. Les épreuves peuvent être individuelles ou par équipe. Dans le premier cas, la\n",
    "participation des athlètes (n-uplets de la relation ATHLETE) est stocké dans la table\n",
    "**RANGINDIVIDUEL** qui contient en plus le rang qu'ils ont obtenu (1 pour la médaille d'or). Pour les\n",
    "épreuves par équipe les résultats sont stockés dans la relation **RANGEQUIPE**, alors que l'information\n",
    "sur le pays de chaque équipe et ses participants et stocké dans les relations **EQUIPE** et\n",
    "**ATHLETESEQUIPE**. Dans les relations **RANGINDIVIDUEL** et **RANGEQUIPE** l'attribut rang est égal à\n",
    "null si l'athlète ou l'équipe a été disqualifié.\n"
   ]
  },
  {
   "cell_type": "markdown",
   "metadata": {
    "id": "00mRiA73K_QB",
    "tags": []
   },
   "source": [
    "## Connexion à H2"
   ]
  },
  {
   "cell_type": "code",
   "execution_count": 6,
   "metadata": {
    "id": "IRyyRAX2K_QB",
    "tags": []
   },
   "outputs": [
    {
     "name": "stdout",
     "output_type": "stream",
     "text": [
      "Connection to H2 DB successful\n"
     ]
    }
   ],
   "source": [
    "connection = connect_H2(\"jo\"+f'{port}',\"ba\",\"ba\")"
   ]
  },
  {
   "cell_type": "markdown",
   "metadata": {
    "tags": []
   },
   "source": [
    "## Créer les tables et charger les données bd_jo_v2_H2.sql"
   ]
  },
  {
   "cell_type": "code",
   "execution_count": 7,
   "metadata": {
    "id": "ALsb-dtHK_QO",
    "tags": []
   },
   "outputs": [
    {
     "ename": "NameError",
     "evalue": "name 'execute' is not defined",
     "output_type": "error",
     "traceback": [
      "\u001b[0;31m---------------------------------------------------------------------------\u001b[0m",
      "\u001b[0;31mNameError\u001b[0m                                 Traceback (most recent call last)",
      "Cell \u001b[0;32mIn[7], line 3\u001b[0m\n\u001b[1;32m      1\u001b[0m schemafile\u001b[38;5;241m=\u001b[39m\u001b[38;5;28mopen\u001b[39m(\u001b[38;5;124m\"\u001b[39m\u001b[38;5;124mbd-jo-v2_H2.sql\u001b[39m\u001b[38;5;124m\"\u001b[39m,mode\u001b[38;5;241m=\u001b[39m\u001b[38;5;124m\"\u001b[39m\u001b[38;5;124mr\u001b[39m\u001b[38;5;124m\"\u001b[39m,encoding\u001b[38;5;241m=\u001b[39m\u001b[38;5;124m'\u001b[39m\u001b[38;5;124mutf-8\u001b[39m\u001b[38;5;124m'\u001b[39m)\n\u001b[1;32m      2\u001b[0m create_schema\u001b[38;5;241m=\u001b[39mschemafile\u001b[38;5;241m.\u001b[39mread()\n\u001b[0;32m----> 3\u001b[0m \u001b[43mexecute\u001b[49m(connection,\u001b[38;5;124m\"\u001b[39m\u001b[38;5;124mdrop all objects\u001b[39m\u001b[38;5;124m\"\u001b[39m)\n\u001b[1;32m      4\u001b[0m execute(connection, create_schema)\n\u001b[1;32m      5\u001b[0m connection\u001b[38;5;241m.\u001b[39mcommit()\n",
      "\u001b[0;31mNameError\u001b[0m: name 'execute' is not defined"
     ]
    }
   ],
   "source": [
    "schemafile=open(\"bd-jo-v2_H2.sql\",mode=\"r\",encoding='utf-8')\n",
    "create_schema=schemafile.read()\n",
    "execute(connection,\"drop all objects\")\n",
    "execute(connection, create_schema)\n",
    "connection.commit()"
   ]
  },
  {
   "cell_type": "markdown",
   "metadata": {
    "id": "Sd2wejT-K_QN",
    "tags": []
   },
   "source": [
    "## Requêtes"
   ]
  },
  {
   "cell_type": "markdown",
   "metadata": {},
   "source": [
    "### **Q1**. Les athlètes français (nom pays = 'France') (104 lignes)."
   ]
  },
  {
   "cell_type": "code",
   "execution_count": 41,
   "metadata": {
    "scrolled": true
   },
   "outputs": [
    {
     "name": "stdout",
     "output_type": "stream",
     "text": [
      "104 rows\n",
      "nomath          |prenomath       |\n",
      "----------------------------------\n",
      "FOURCADE        |Martin          |\n",
      "LAMY CHAPPUIS   |Jason           |\n",
      "VAULTIER        |Pierre          |\n",
      "CHAPUIS         |Jean Frederic   |\n",
      "BRUNET          |Marie Laure     |\n",
      "DORIN HABERT    |Marie           |\n",
      "ANTHONIOZ       |Deborah         |\n",
      "MISSILLIER      |Steve           |\n",
      "BOVOLENTA       |Arnaud          |\n",
      "MARTINOD        |Marie           |\n",
      "GAILLARD        |Jean Marc       |\n",
      "DE LE RUE       |Paul-Henri      |\n",
      "PINTURAULT      |Alexis          |\n",
      "BEATRIX         |Jean Guillaume  |\n",
      "DUVILLARD       |Robin           |\n",
      "MANIFICAT       |Maurice         |\n",
      "PERRILLAT BOITEU|Ivan            |\n",
      "JOSSERAND       |Marion          |\n",
      "RAMOIN          |Tony            |\n",
      "TRESPEUCH       |Chloe           |\n",
      "MATTEL          |Coline          |\n",
      "MIDOL           |Jonathan        |\n",
      "ROLLAND         |Kevin           |\n",
      "LACROIX         |Sebastian       |\n",
      "LIZEROUX        |Julien          |\n",
      "JOUBERT         |Brian           |\n",
      "CHATAIGNIER     |Maxime          |\n",
      "FAUCONNET       |Thibaut         |\n",
      "PIERRON         |Veronique       |\n",
      "BARTHET         |Anne-Sophie     |\n",
      "FANARA          |Thomas          |\n",
      "GRANGE          |Jean-Baptiste   |\n",
      "MARCHAND-ARVIER |Marie           |\n",
      "THEAUX          |Adrien          |\n",
      "FOURCADE        |Simon           |\n",
      "BRAUD           |Francois        |\n",
      "LAHEURTE        |Maxime          |\n",
      "RODRIGUEZ       |Sophie          |\n",
      "BAUD            |Adeline         |\n",
      "BERTRAND        |Marion          |\n",
      "MARMOTTAN       |Anemone         |\n",
      "NOENS           |Nastasia        |\n",
      "CLAREY          |Johan           |\n",
      "FAIVRE          |Mathieu         |\n",
      "FAYED           |Guillermo       |\n",
      "MERMILLOD BLONDI|Thomas          |\n",
      "POISSON         |David           |\n",
      "BESCOND         |Anais           |\n",
      "BOEUF           |Alexis          |\n",
      "BOLLIET         |Marine          |\n",
      "FAIVRE PICON    |Anouk           |\n",
      "GAILLARD        |Cyril           |\n",
      "HUGUE           |Coraline        |\n",
      "MIRANDA         |Cyril           |\n",
      "BENNA           |Anthony         |\n",
      "DAVID           |Ophelie         |\n",
      "AMODIO          |Florent         |\n",
      "BAISAMY         |Johann          |\n",
      "DUFOUR          |Sylvain         |\n",
      "LONGO           |Arthur          |\n",
      "MOENNE LOCCOZ   |Nelly           |\n",
      "THOVEX          |Mirabelle       |\n",
      "LEPAPE          |Sebastien       |\n",
      "MACE            |Benjamin        |\n",
      "LEMARE          |Lea             |\n",
      "AYMONIER        |Celia           |\n",
      "BACKSCHEIDER    |Adrien          |\n",
      "GROS            |Baptiste        |\n",
      "JAY             |Renaud          |\n",
      "JEAN            |Aurore          |\n",
      "BUILLET         |Marion          |\n",
      "MEITE           |Mae Berenice    |\n",
      "BONNEFOY        |Morgane         |\n",
      "BANKES          |Charlotte       |\n",
      "GRIMAL          |Clemence        |\n",
      "CLAIR           |Julia           |\n",
      "LAMY CHAPPUIS   |Ronan           |\n",
      "FERNANDEZ       |Ewen            |\n",
      "CHEVALIER       |Anais           |\n",
      "DESTHIEUX       |Simon           |\n",
      "ADELISSE        |Antoine         |\n",
      "BARON           |Alizee          |\n",
      "BERGER SABBATEL |Marielle        |\n",
      "BERTONI         |Xavier          |\n",
      "BONNAIRE        |Jules           |\n",
      "CARADEUX        |Anais           |\n",
      "CAVET           |Benjamin        |\n",
      "DEVOUASSOUX     |Jonas           |\n",
      "KRIEF           |Thomas          |\n",
      "LAFFONT         |Perrine         |\n",
      "PANCRAS         |Jeremy          |\n",
      "VALENTIN        |Benoit          |\n",
      "HEINRICH        |Romain          |\n",
      "COSTERG         |Loic            |\n",
      "LEFORT          |Elly            |\n",
      "RIBET           |Florent         |\n",
      "BAILLARD        |Jeremy          |\n",
      "BOUTHERIN       |Jeremie         |\n",
      "Alexis GODEFROY |Thibault        |\n",
      "Daniel Jean-Paul|Vincent         |\n",
      "BOURZAT         |Fabian          |\n",
      "PECHALAT        |Nathalie        |\n",
      "CARRON          |Pernelle        |\n",
      "JONES           |Lloyd           |\n"
     ]
    }
   ],
   "source": [
    "query=\"\"\"\n",
    "\n",
    "\n",
    "\"\"\"\n",
    "cursor=execute(connection,query,show=True)\n"
   ]
  },
  {
   "cell_type": "markdown",
   "metadata": {
    "tags": []
   },
   "source": [
    "### **Q2** . Les épreuves (sport, nom d'épreuve, catégorie) triées par nom de sport, puis par nom d'épreuve dans l'ordre inverse du dictionnaire (98 lignes)."
   ]
  },
  {
   "cell_type": "code",
   "execution_count": 42,
   "metadata": {
    "scrolled": true
   },
   "outputs": [
    {
     "name": "stdout",
     "output_type": "stream",
     "text": [
      "98 rows\n",
      "nomep           |categorie       |nomsp           |\n",
      "---------------------------------------------------\n",
      "Snowboard cross |Femmes          |Surf des neiges |\n",
      "Snowboard cross |Hommes          |Surf des neiges |\n",
      "Slopestyle      |Femmes          |Surf des neiges |\n",
      "Slopestyle      |Hommes          |Surf des neiges |\n",
      "Slalom parallèle|Femmes          |Surf des neiges |\n",
      "Slalom parallèle|Hommes          |Surf des neiges |\n",
      "Slalom géant par|Femmes          |Surf des neiges |\n",
      "Slalom géant par|Hommes          |Surf des neiges |\n",
      "Halfpipe        |Femmes          |Surf des neiges |\n",
      "Halfpipe        |Hommes          |Surf des neiges |\n",
      "Sprint par équip|Femmes          |Ski de fond     |\n",
      "Sprint par équip|Hommes          |Ski de fond     |\n",
      "Sprint 1,5km    |Femmes          |Ski de fond     |\n",
      "Sprint 1,5km    |Hommes          |Ski de fond     |\n",
      "Skiathlon (7,5km|Femmes          |Ski de fond     |\n",
      "Skiathlon (15km |Hommes          |Ski de fond     |\n",
      "Relais 4x5km    |Femmes          |Ski de fond     |\n",
      "Relais 4x10km   |Hommes          |Ski de fond     |\n",
      "50km            |Hommes          |Ski de fond     |\n",
      "30km            |Femmes          |Ski de fond     |\n",
      "15km            |Hommes          |Ski de fond     |\n",
      "10km            |Femmes          |Ski de fond     |\n",
      "Super combiné   |Femmes          |Ski alpin       |\n",
      "Super combiné   |Hommes          |Ski alpin       |\n",
      "Super G         |Femmes          |Ski alpin       |\n",
      "Super G         |Hommes          |Ski alpin       |\n",
      "Slalom géant    |Femmes          |Ski alpin       |\n",
      "Slalom géant    |Hommes          |Ski alpin       |\n",
      "Slalom          |Femmes          |Ski alpin       |\n",
      "Slalom          |Hommes          |Ski alpin       |\n",
      "Descente        |Femmes          |Ski alpin       |\n",
      "Descente        |Hommes          |Ski alpin       |\n",
      "Ski slopestyle  |Femmes          |Ski acrobatique |\n",
      "Ski slopestyle  |Hommes          |Ski acrobatique |\n",
      "Ski halfpipe    |Femmes          |Ski acrobatique |\n",
      "Ski halfpipe    |Hommes          |Ski acrobatique |\n",
      "Ski Cross       |Femmes          |Ski acrobatique |\n",
      "Ski Cross       |Hommes          |Ski acrobatique |\n",
      "Saut            |Femmes          |Ski acrobatique |\n",
      "Saut            |Hommes          |Ski acrobatique |\n",
      "Bosses          |Femmes          |Ski acrobatique |\n",
      "Bosses          |Hommes          |Ski acrobatique |\n",
      "Individuel      |Femmes          |Skeleton        |\n",
      "Individuel      |Hommes          |Skeleton        |\n",
      "Tremplin normal |Femmes          |Saut à ski      |\n",
      "Tremplin normal |Hommes          |Saut à ski      |\n",
      "Par équipes     |Hommes          |Saut à ski      |\n",
      "Grand tremplin i|Hommes          |Saut à ski      |\n",
      "Relais 5000m    |Hommes          |Patinage de vite|\n",
      "Relais 3000m    |Femmes          |Patinage de vite|\n",
      "500m            |Femmes          |Patinage de vite|\n",
      "500m            |Hommes          |Patinage de vite|\n",
      "1500m           |Femmes          |Patinage de vite|\n",
      "1500m           |Hommes          |Patinage de vite|\n",
      "1000m           |Femmes          |Patinage de vite|\n",
      "1000m           |Hommes          |Patinage de vite|\n",
      "Poursuite par éq|Femmes          |Patinage de vite|\n",
      "Poursuite par éq|Hommes          |Patinage de vite|\n",
      "5000m           |Femmes          |Patinage de vite|\n",
      "5000m           |Hommes          |Patinage de vite|\n",
      "3000m           |Femmes          |Patinage de vite|\n",
      "2x500m          |Femmes          |Patinage de vite|\n",
      "2x500m          |Hommes          |Patinage de vite|\n",
      "1500m           |Femmes          |Patinage de vite|\n",
      "1500m           |Hommes          |Patinage de vite|\n",
      "1000m           |Femmes          |Patinage de vite|\n",
      "1000m           |Hommes          |Patinage de vite|\n",
      "10000m          |Hommes          |Patinage de vite|\n",
      "Par équipes     |Mixte           |Patinage artisti|\n",
      "Individuel      |Femmes          |Patinage artisti|\n",
      "Individuel      |Hommes          |Patinage artisti|\n",
      "Danse sur glace |Mixte           |Patinage artisti|\n",
      "Couples         |Mixte           |Patinage artisti|\n",
      "Simple          |Femmes          |Luge            |\n",
      "Simple          |Hommes          |Luge            |\n",
      "Relais par équip|Mixte           |Luge            |\n",
      "Double          |Mixte           |Luge            |\n",
      "hockey sur glace|Femmes          |Hockey sur glace|\n",
      "hockey sur glace|Hommes          |Hockey sur glace|\n",
      "curling         |Femmes          |Curling         |\n",
      "curling         |Hommes          |Curling         |\n",
      "Par équipes     |Hommes          |Combiné nordique|\n",
      "Individuel LH   |Hommes          |Combiné nordique|\n",
      "Individuel      |Hommes          |Combiné nordique|\n",
      "bob à quatres   |Hommes          |Bobsleigh       |\n",
      "bob à deux      |Femmes          |Bobsleigh       |\n",
      "bob à deux      |Hommes          |Bobsleigh       |\n",
      "relais 4x7,5km  |Hommes          |Biathlon        |\n",
      "relais 4x6km    |Femmes          |Biathlon        |\n",
      "Relais mix      |Mixte           |Biathlon        |\n",
      "7,5km           |Femmes          |Biathlon        |\n",
      "20km            |Hommes          |Biathlon        |\n",
      "15km départ grou|Hommes          |Biathlon        |\n",
      "15km            |Femmes          |Biathlon        |\n",
      "12,5km poursuite|Hommes          |Biathlon        |\n",
      "12,5km départ gr|Femmes          |Biathlon        |\n",
      "10km poursuite  |Femmes          |Biathlon        |\n",
      "10km            |Hommes          |Biathlon        |\n"
     ]
    }
   ],
   "source": [
    "query=\"\"\"\n",
    "\n",
    "\n",
    "\"\"\"\n",
    "\n",
    "cursor=execute(connection,query,show=True)"
   ]
  },
  {
   "cell_type": "markdown",
   "metadata": {},
   "source": [
    "### **Q3** . Les athlètes ayant participé à une équipe de France (30 lignes)."
   ]
  },
  {
   "cell_type": "code",
   "execution_count": null,
   "metadata": {
    "scrolled": true
   },
   "outputs": [],
   "source": [
    "query=\"\"\"\n",
    "\n",
    "\n",
    "\"\"\"\n",
    "\n",
    "cursor=execute(connection,query,show=True)"
   ]
  },
  {
   "cell_type": "markdown",
   "metadata": {},
   "source": [
    "### **Q4**. Les épreuves (sport, épreuve, catégorie) auxquelles participent des équipes (25 lignes)."
   ]
  },
  {
   "cell_type": "code",
   "execution_count": null,
   "metadata": {
    "scrolled": true
   },
   "outputs": [],
   "source": [
    "query=\"\"\"\n",
    "\n",
    "\n",
    "\"\"\"\n",
    "\n",
    "cursor=execute(connection,query,show=True)"
   ]
  },
  {
   "cell_type": "markdown",
   "metadata": {},
   "source": [
    "### **Q5**. Le pays qui a gagné, en équipe, la médaille d'or dans l'épreuve de la catégorie 'Femmes' intitulée 'relais 4x6km' du sport 'Biathlon' (Ukraine)."
   ]
  },
  {
   "cell_type": "code",
   "execution_count": null,
   "metadata": {},
   "outputs": [],
   "source": [
    "query=\"\"\"\n",
    "\n",
    "\n",
    "\"\"\"\n",
    "\n",
    "cursor=execute(connection,query,show=True)"
   ]
  },
  {
   "cell_type": "markdown",
   "metadata": {},
   "source": [
    "### **Q6** . Les athlètes ayant participé à au moins une épreuve individuelle et au moins une par équipe (372 lignes)."
   ]
  },
  {
   "cell_type": "code",
   "execution_count": null,
   "metadata": {
    "scrolled": true
   },
   "outputs": [],
   "source": [
    "query=\"\"\"\n",
    "\n",
    "\n",
    "\n",
    "\"\"\"\n",
    "\n",
    "cursor=execute(connection,query,show=True)"
   ]
  },
  {
   "cell_type": "markdown",
   "metadata": {},
   "source": [
    "### **Q7** . Les homonymes (les nom de familles portés par deux athlètes ou plus) (141 lignes)"
   ]
  },
  {
   "cell_type": "code",
   "execution_count": null,
   "metadata": {
    "scrolled": true
   },
   "outputs": [],
   "source": [
    "query=\"\"\"\n",
    "\n",
    "\n",
    "\"\"\"\n",
    "\n",
    "cursor=execute(connection,query,show=True)"
   ]
  },
  {
   "cell_type": "markdown",
   "metadata": {},
   "source": [
    "### **Q8**. Les athlètes ayant participé à (au moins) deux épreuves individuelles (706 lignes)."
   ]
  },
  {
   "cell_type": "code",
   "execution_count": null,
   "metadata": {
    "scrolled": true
   },
   "outputs": [],
   "source": [
    "query=\"\"\"\n",
    "\n",
    "\n",
    "\n",
    "\"\"\"\n",
    "\n",
    "cursor=execute(connection,query,show=True)"
   ]
  },
  {
   "cell_type": "markdown",
   "metadata": {},
   "source": [
    "### **Q9**. Les athlètes ayant gagné une médaille dans une épreuve individuelle, mais ayant été disqualifiés\n",
    "dans une autre (14 lignes)."
   ]
  },
  {
   "cell_type": "code",
   "execution_count": null,
   "metadata": {
    "scrolled": true
   },
   "outputs": [],
   "source": [
    "query=\"\"\"\n",
    "\n",
    "\n",
    "\"\"\"\n",
    "\n",
    "cursor=execute(connection,query,show=True)"
   ]
  },
  {
   "cell_type": "markdown",
   "metadata": {},
   "source": [
    "### **Q10**. Les athlètes ayant gagné (au moins) une médaille dans une épreuve individuelle (182 lignes)."
   ]
  },
  {
   "cell_type": "code",
   "execution_count": null,
   "metadata": {
    "scrolled": true
   },
   "outputs": [],
   "source": [
    "query=\"\"\"\n",
    "\n",
    "\n",
    "\"\"\"\n",
    "\n",
    "cursor=execute(connection,query,show=True)"
   ]
  },
  {
   "cell_type": "markdown",
   "metadata": {},
   "source": [
    "**NOT EXISTS / NOT IN**"
   ]
  },
  {
   "cell_type": "markdown",
   "metadata": {},
   "source": [
    "### **Q11**.  Les noms de pays qui n’ont qu’une seule équipe (9 lignes)."
   ]
  },
  {
   "cell_type": "code",
   "execution_count": null,
   "metadata": {
    "scrolled": true
   },
   "outputs": [],
   "source": [
    "query=\"\"\"\n",
    "\n",
    "\n",
    "\"\"\"\n",
    "\n",
    "cursor=execute(connection,query,show=True)"
   ]
  },
  {
   "cell_type": "markdown",
   "metadata": {},
   "source": [
    "### **Q12**. Les athlètes ayant participé à exactement 2 épreuves individuelles (402 lignes)."
   ]
  },
  {
   "cell_type": "code",
   "execution_count": null,
   "metadata": {
    "scrolled": true,
    "tags": []
   },
   "outputs": [],
   "source": [
    "query=\"\"\"\n",
    "\n",
    "\n",
    "\"\"\"\n",
    "\n",
    "cursor=execute(connection,query,show=True)"
   ]
  },
  {
   "cell_type": "markdown",
   "metadata": {
    "id": "zHpjYeKDK_P9",
    "tags": []
   },
   "source": [
    "# TME5: JOINTURES ET IMBRICATION AVEC IN ET EXISTS \n",
    "\n",
    "Ce TME utilise les données contenues dans le fichier **bd_jo_v2_H2.sql**\n"
   ]
  },
  {
   "cell_type": "markdown",
   "metadata": {
    "id": "Sd2wejT-K_QN",
    "tags": []
   },
   "source": [
    "## Requêtes"
   ]
  },
  {
   "cell_type": "markdown",
   "metadata": {},
   "source": [
    "### **Q1**. Les sports auxquels LESSER Erik a participé en supposant qu'il a participé aux épreuves\n",
    "individuelles (Ski de fond, Biathlon)."
   ]
  },
  {
   "cell_type": "code",
   "execution_count": null,
   "metadata": {
    "scrolled": true
   },
   "outputs": [],
   "source": [
    "query=\"\"\"\n",
    "\n",
    "\n",
    "\"\"\"\n",
    "\n",
    "cursor=execute(connection,query,show=True)"
   ]
  },
  {
   "cell_type": "markdown",
   "metadata": {},
   "source": [
    "### **Q2**. Les athlètes ayant participé aux épreuves individuelles de (au moins) deux sports différents ( PETROVIC Milanko, TER MORS Jorien, LESSER Erik, PEIFFER Arnd)."
   ]
  },
  {
   "cell_type": "code",
   "execution_count": 43,
   "metadata": {
    "scrolled": true
   },
   "outputs": [
    {
     "name": "stdout",
     "output_type": "stream",
     "text": [
      "4 rows\n",
      "nomath          |prenomath       |\n",
      "----------------------------------\n",
      "LESSER          |Erik            |\n",
      "PEIFFER         |Arnd            |\n",
      "PETROVIC        |Milanko         |\n",
      "TER MORS        |Jorien          |\n"
     ]
    }
   ],
   "source": [
    "query=\"\"\"\n",
    "\n",
    "\n",
    "\"\"\"\n",
    "\n",
    "cursor=execute(connection,query,show=True)"
   ]
  },
  {
   "cell_type": "markdown",
   "metadata": {},
   "source": [
    "**NOT EXISTS / NOT IN / IS NULL**"
   ]
  },
  {
   "cell_type": "markdown",
   "metadata": {},
   "source": [
    "### **Q3**. Les dates de début et de fin des Jeux Olympique 2014 (06/02/2014, 23/02/2014)."
   ]
  },
  {
   "cell_type": "code",
   "execution_count": null,
   "metadata": {
    "scrolled": true
   },
   "outputs": [],
   "source": [
    "query=\"\"\"\n",
    "\n",
    "\n",
    "\"\"\"\n",
    "\n",
    "cursor=execute(connection,query,show=True)"
   ]
  },
  {
   "cell_type": "markdown",
   "metadata": {},
   "source": [
    "### **Q4**. Les pays qui ont des participants de moins de 18 ans ou de plus que 40 au 24-02-2016\n",
    "(Attention : il faut éliminer les athlètes dont on ne connaît pas la date de naissance) (AUT Autriche, CAN Canada, GER Allemagne, ITA Italie, JPN Japon, NOR Norvège, RUS Russie)."
   ]
  },
  {
   "cell_type": "code",
   "execution_count": null,
   "metadata": {
    "scrolled": true
   },
   "outputs": [],
   "source": [
    "query=\"\"\"\n",
    "\n",
    "\n",
    "\"\"\"\n",
    "\n",
    "cursor=execute(connection,query,show=True)"
   ]
  },
  {
   "cell_type": "markdown",
   "metadata": {},
   "source": [
    "### **Q5**. Les équipes n'ayant pas d'athlète (la base de données ne contient pas l'information sur les participants) (13 lignes)"
   ]
  },
  {
   "cell_type": "code",
   "execution_count": null,
   "metadata": {
    "scrolled": true
   },
   "outputs": [],
   "source": [
    "query=\"\"\"\n",
    "\n",
    "\n",
    "\"\"\"\n",
    "\n",
    "cursor=execute(connection,query,show=True)"
   ]
  },
  {
   "cell_type": "markdown",
   "metadata": {},
   "source": [
    "### **Q6**. Les équipes qui ont exactement 2 athlètes. Retourner l'équipe en question avec ses deux seuls athlètes (114 lignes).\n"
   ]
  },
  {
   "cell_type": "code",
   "execution_count": null,
   "metadata": {
    "scrolled": true
   },
   "outputs": [],
   "source": [
    "query=\"\"\"\n",
    "\n",
    "\n",
    "\"\"\"\n",
    "\n",
    "cursor=execute(connection,query,show=True)"
   ]
  },
  {
   "cell_type": "markdown",
   "metadata": {},
   "source": [
    "### **Q7**. Les sports qui n'ont pas d'épreuves de catégorie Mixte (12 lignes)."
   ]
  },
  {
   "cell_type": "code",
   "execution_count": null,
   "metadata": {
    "scrolled": true
   },
   "outputs": [],
   "source": [
    "query=\"\"\"\n",
    "\n",
    "\n",
    "\"\"\"\n",
    "\n",
    "cursor=execute(connection,query,show=True)"
   ]
  },
  {
   "cell_type": "markdown",
   "metadata": {},
   "source": [
    "### **Q8**. Les athlètes qui ont gagné une médaille d’or (au moins) mais pas de médaille d’argent ni de bronze (53 lignes)"
   ]
  },
  {
   "cell_type": "code",
   "execution_count": 51,
   "metadata": {
    "scrolled": true
   },
   "outputs": [
    {
     "name": "stdout",
     "output_type": "stream",
     "text": [
      "53 rows\n",
      "aid             |nomath          |prenomath       |\n",
      "---------------------------------------------------\n",
      "1               |BJOERNDALEN     |Ole Einar       |\n",
      "2               |BJOERGEN        |Marit           |\n",
      "6               |SVENDSEN        |Emil Hegle      |\n",
      "10              |HAMELIN         |Charles         |\n",
      "14              |DOMRACHEVA      |Darya           |\n",
      "15              |COLOGNA         |Dario           |\n",
      "16              |LOCH            |Felix           |\n",
      "17              |ZHOU            |Yang            |\n",
      "23              |MAZE            |Tina            |\n",
      "28              |KOWALCZYK       |Justyna         |\n",
      "39              |GEISENBERGER    |Natalie         |\n",
      "41              |BILODEAU        |Alexandre       |\n",
      "43              |LIGETY          |Ted             |\n",
      "44              |SANG-HWA        |Lee             |\n",
      "45              |STOCH           |Kamil           |\n",
      "46              |TER MORS        |Jorien          |\n",
      "47              |GRAABAK         |Joergen         |\n",
      "48              |WILD            |Vic             |\n",
      "61              |FRENZEL         |Eric            |\n",
      "66              |LEGKOV          |Alexander       |\n",
      "93              |BRODKA          |Zbigniew        |\n",
      "98              |TSUPER          |Alla            |\n",
      "101             |MATT            |Mario           |\n",
      "109             |VAULTIER        |Pierre          |\n",
      "111             |GROOTHUIS       |Stefan          |\n",
      "112             |HATTESTAD       |Ola Vigen       |\n",
      "113             |KUSHNIR         |Anton           |\n",
      "114             |PODLADTCHIKOV   |Iouri           |\n",
      "116             |GISIN           |Dominique       |\n",
      "118             |VILETTA         |Sandro          |\n",
      "123             |FALLA           |Maiken Caspersen|\n",
      "126             |FARRINGTON      |Kaitlyn         |\n",
      "127             |ANDERSON        |Jamie           |\n",
      "128             |KUMMER          |Patrizia        |\n",
      "129             |DUJMOVITS       |Julia           |\n",
      "138             |SOTNIKOVA       |Adelina         |\n",
      "140             |YARNOLD         |Elizabeth       |\n",
      "144             |HANYU           |Yuzuru          |\n",
      "146             |KOTSENBURG      |Sage            |\n",
      "147             |SAMKOVA         |Eva             |\n",
      "148             |JIANROU         |Li              |\n",
      "150             |VOGT            |Carina          |\n",
      "152             |HONG            |Zhang           |\n",
      "153             |MAYER           |Matthias        |\n",
      "154             |SHIFFRIN        |Mikaela         |\n",
      "156             |CHAPUIS         |Jean Frederic   |\n",
      "157             |THOMPSON        |Marielle        |\n",
      "158             |DUFOUR-LAPOINTE |Justine         |\n",
      "159             |HOWELL          |Dara            |\n",
      "160             |WISE            |David           |\n",
      "161             |BOWMAN          |Maddie          |\n",
      "162             |CHRISTENSEN     |Joss            |\n",
      "1908            |TRETIAKOV       |Alexander       |\n"
     ]
    }
   ],
   "source": [
    "query=\"\"\"\n",
    "\n",
    "\n",
    "\"\"\"\n",
    "\n",
    "cursor=execute(connection,query,show=True)"
   ]
  },
  {
   "cell_type": "markdown",
   "metadata": {
    "tags": []
   },
   "source": [
    "### **Q9**. Les athlète(s) qui ont fini dernier d’une épreuve individuelle. Indiquer leur nom, prenom, le nom du sport et de l’épreuve et leur rang. Attention : il faut filtrer les athlètes disqualifiés (73 lignes)."
   ]
  },
  {
   "cell_type": "code",
   "execution_count": 52,
   "metadata": {
    "scrolled": true
   },
   "outputs": [
    {
     "name": "stdout",
     "output_type": "stream",
     "text": [
      "73 rows\n",
      "aid             |nomath          |prenomath       |rang            |nomep           |nomsp           |\n",
      "------------------------------------------------------------------------------------------------------\n",
      "12              |HELLNER         |Marcus          |6               |Sprint 1,5km    |Ski de fond     |\n",
      "34              |PARK            |Seung-Hi        |3               |500m            |Patinage de vite|\n",
      "173             |SUMANN          |Christoph       |27              |15km départ grou|Biathlon        |\n",
      "176             |LI              |Nina            |4               |Saut            |Ski acrobatique |\n",
      "202             |KOSIR           |Zan             |3               |Slalom géant par|Surf des neiges |\n",
      "212             |DAJING          |Wu              |4               |1000m           |Patinage de vite|\n",
      "347             |ZAVARZINA       |Alena           |3               |Slalom géant par|Surf des neiges |\n",
      "410             |CETINKAYA       |Kelime          |61              |Skiathlon (7,5km|Ski de fond     |\n",
      "491             |MARTIN          |Brad            |39              |Halfpipe        |Surf des neiges |\n",
      "507             |KORNILOV        |Denis           |48              |Tremplin normal |Saut à ski      |\n",
      "514             |LAMB            |Maria           |16              |5000m           |Patinage de vite|\n",
      "592             |MAAS            |Cheryl          |20              |Slopestyle      |Surf des neiges |\n",
      "599             |LEE             |Bo Ra           |35              |1000m           |Patinage de vite|\n",
      "670             |BERECZ          |Anna            |35              |Descente        |Ski alpin       |\n",
      "679             |RODE            |Roberts         |47              |Descente        |Ski alpin       |\n",
      "687             |FAARUP          |Christoffer     |34              |Super combiné   |Ski alpin       |\n",
      "754             |KENESHEV        |Dias            |87              |10km            |Biathlon        |\n",
      "774             |STEPTSENKO      |Danil           |59              |12,5km poursuite|Biathlon        |\n",
      "775             |GOMBOS          |Karoly          |88              |20km            |Biathlon        |\n",
      "841             |WATSON          |Aimee           |54              |30km            |Ski de fond     |\n",
      "842             |DUBAREZAVA      |Nastassia       |56              |10km poursuite  |Biathlon        |\n",
      "842             |DUBAREZAVA      |Nastassia       |56              |15km            |Biathlon        |\n",
      "842             |DUBAREZAVA      |Nastassia       |56              |7,5km           |Biathlon        |\n",
      "859             |XU              |Wenlong         |60              |50km            |Ski de fond     |\n",
      "873             |CARCELEN        |Roberto         |87              |15km            |Ski de fond     |\n",
      "880             |CALDWELL        |Sophie          |6               |Sprint 1,5km    |Ski de fond     |\n",
      "917             |QI              |Guangpu         |4               |Saut            |Ski acrobatique |\n",
      "927             |OUTTRIM         |Eliza           |6               |Bosses          |Ski acrobatique |\n",
      "928             |DENEEN          |Patrick         |6               |Bosses          |Ski acrobatique |\n",
      "934             |SMITH           |Fanny           |8               |Ski Cross       |Ski acrobatique |\n",
      "952             |ROMANENKOV      |Viktor          |24              |Individuel      |Patinage artisti|\n",
      "984             |TIIRMAA         |Karl-August     |44              |Individuel LH   |Combiné nordique|\n",
      "997             |TSOY            |Valeriya        |32              |Slalom parallèle|Surf des neiges |\n",
      "999             |DETKOV          |Stanislav       |28              |Slalom parallèle|Surf des neiges |\n",
      "1076            |ALEXANDER       |Nicholas        |48              |Grand tremplin i|Saut à ski      |\n",
      "1085            |MAZILU          |Maria Marinela  |20              |Individuel      |Skeleton        |\n",
      "1095            |DRUSZKIEWICZ    |Sebastian       |14              |10000m          |Patinage de vite|\n",
      "1114            |GREIG           |Daniel          |39              |2x500m          |Patinage de vite|\n",
      "1116            |HIRSCHBICHLER   |Gabriele        |34              |2x500m          |Patinage de vite|\n",
      "1150            |LIANG           |Wenhao          |4               |500m            |Patinage de vite|\n",
      "1155            |WHELBOURNE      |Jack            |7               |1500m           |Patinage de vite|\n",
      "1156            |SMITH           |Jessica         |4               |1000m           |Patinage de vite|\n",
      "1165            |HILL            |Kevin           |8               |Snowboard cross |Surf des neiges |\n",
      "1173            |MYTSAK          |Dmytro          |52              |Super G         |Ski alpin       |\n",
      "1176            |ABOLTINA        |Agnese          |31              |Super G         |Ski alpin       |\n",
      "1209            |LIEN            |Te-An           |39              |Simple          |Luge            |\n",
      "1229            |KLIMOV          |Evgeniy         |45              |Individuel      |Combiné nordique|\n",
      "1249            |GREENWOOD       |Sean            |27              |Individuel      |Skeleton        |\n",
      "1307            |KOVACEVIC       |Ivana           |75              |10km            |Ski de fond     |\n",
      "1331            |HWANG           |Jun-Ho          |67              |Skiathlon (15km |Ski de fond     |\n",
      "1368            |WILLIAMS        |Isadora         |30              |Individuel      |Patinage artisti|\n",
      "1390            |SHKHUMOVA       |Olena           |31              |Simple          |Luge            |\n",
      "1452            |BROCKHOFF       |Belle           |8               |Snowboard cross |Surf des neiges |\n",
      "1472            |ROHRER          |Verena          |27              |Halfpipe        |Surf des neiges |\n",
      "1478            |KOCH            |Lucien          |28              |Slopestyle      |Surf des neiges |\n",
      "1490            |SCOTT           |Emily           |5               |1500m           |Patinage de vite|\n",
      "1506            |YAMADA          |Yurina          |30              |Tremplin normal |Saut à ski      |\n",
      "1557            |SUNG            |Ching-Yang      |40              |1000m           |Patinage de vite|\n",
      "1558            |FERNANDEZ       |Ewen            |40              |1500m           |Patinage de vite|\n",
      "1588            |YANG            |Shin Young      |36              |1500m           |Patinage de vite|\n",
      "1588            |YANG            |Shin Young      |27              |3000m           |Patinage de vite|\n",
      "1603            |WILLIAMSON      |Shane           |26              |5000m           |Patinage de vite|\n",
      "1623            |CAILL           |Ania Monica     |22              |Super combiné   |Ski alpin       |\n",
      "1683            |VANAKORN        |Vanessa         |67              |Slalom géant    |Ski alpin       |\n",
      "1699            |GOUTT           |Yohan Goncalves |43              |Slalom          |Ski alpin       |\n",
      "1702            |KANG            |Young-Seo       |49              |Slalom          |Ski alpin       |\n",
      "1706            |THAKUR          |Himanshu        |72              |Slalom géant    |Ski alpin       |\n",
      "1749            |HILDEBRAND      |Franziska       |28              |12,5km départ gr|Biathlon        |\n",
      "1766            |MITSUBOSHI      |Manami          |23              |Ski halfpipe    |Ski acrobatique |\n",
      "1767            |TAKAO           |Chiho           |22              |Ski slopestyle  |Ski acrobatique |\n",
      "1848            |CURRIER         |Lyman           |28              |Ski halfpipe    |Ski acrobatique |\n",
      "1857            |EIGLER          |Florian         |8               |Ski Cross       |Ski acrobatique |\n",
      "1897            |SCHULER         |Luca            |32              |Ski slopestyle  |Ski acrobatique |\n"
     ]
    }
   ],
   "source": [
    "query=\"\"\"\n",
    "\n",
    "\n",
    "\"\"\"\n",
    "\n",
    "cursor=execute(connection,query,show=True)"
   ]
  },
  {
   "cell_type": "markdown",
   "metadata": {},
   "source": [
    "# Fermer la connexion"
   ]
  },
  {
   "cell_type": "code",
   "execution_count": 8,
   "metadata": {},
   "outputs": [],
   "source": [
    "connection.commit() # implicit avec close\n",
    "connection.close()"
   ]
  },
  {
   "cell_type": "code",
   "execution_count": null,
   "metadata": {},
   "outputs": [],
   "source": [
    "connection"
   ]
  }
 ],
 "metadata": {
  "interpreter": {
   "hash": "3f7970bd1fb3f240334e0295161dab121eeb02ebe2a02561bbc5f2c38513dba7"
  },
  "kernelspec": {
   "display_name": "Python [conda env:pyspark]",
   "language": "python",
   "name": "conda-env-pyspark-py"
  },
  "language_info": {
   "codemirror_mode": {
    "name": "ipython",
    "version": 3
   },
   "file_extension": ".py",
   "mimetype": "text/x-python",
   "name": "python",
   "nbconvert_exporter": "python",
   "pygments_lexer": "ipython3",
   "version": "3.12.0"
  },
  "toc-autonumbering": true,
  "toc-showcode": false,
  "toc-showmarkdowntxt": false,
  "toc-showtags": false
 },
 "nbformat": 4,
 "nbformat_minor": 4
}
